{
 "cells": [
  {
   "cell_type": "code",
<<<<<<< HEAD
   "execution_count": 127,
=======
   "execution_count": 2,
>>>>>>> cf562fdd558352be8495cb882a812f43172a4d33
   "metadata": {},
   "outputs": [
    {
     "name": "stderr",
     "output_type": "stream",
     "text": [
      "c:\\Users\\Aadarsh\\anaconda3\\envs\\Aadarsh-env\\lib\\site-packages\\tqdm\\auto.py:22: TqdmWarning: IProgress not found. Please update jupyter and ipywidgets. See https://ipywidgets.readthedocs.io/en/stable/user_install.html\n",
      "  from .autonotebook import tqdm as notebook_tqdm\n"
     ]
    }
   ],
   "source": [
    "import pandas as pd\n",
    "import numpy as np\n",
    "import seaborn as sns\n",
    "from sklearn.preprocessing import LabelEncoder\n",
    "from sklearn.preprocessing import OneHotEncoder\n",
<<<<<<< HEAD
    "from boruta import BorutaPy\n",
    "from sklearn.ensemble import RandomForestClassifier"
=======
    "import matplotlib.pyplot as plt\n",
    "import sklearn\n",
    "from sklearn.ensemble import RandomForestClassifier\n",
    "from sklearn.model_selection import train_test_split\n",
    "#import graphviz  \n",
    "from sklearn import tree\n",
    "#import pydot\n",
    "from sklearn.tree import export_graphviz\n",
    "#import pydotplus\n",
    "from pgmpy.models import BayesianModel\n",
    "from pgmpy.estimators import MaximumLikelihoodEstimator, BayesianEstimator\n",
    "from sklearn.model_selection import train_test_split\n",
    "from imblearn.over_sampling import SMOTE\n",
    "from pgmpy.sampling import BayesianModelSampling\n",
    "from pgmpy.inference import VariableElimination\n",
    "import networkx as nx\n",
    "import matplotlib.pyplot as plt\n"
>>>>>>> cf562fdd558352be8495cb882a812f43172a4d33
   ]
  },
  {
   "cell_type": "code",
<<<<<<< HEAD
   "execution_count": 128,
=======
   "execution_count": 3,
>>>>>>> cf562fdd558352be8495cb882a812f43172a4d33
   "metadata": {},
   "outputs": [],
   "source": [
    "df = pd.read_csv('Telco-Customer-Churn Dataset.csv')"
   ]
  },
  {
   "cell_type": "code",
<<<<<<< HEAD
   "execution_count": 156,
   "metadata": {},
   "outputs": [],
   "source": [
    "X = df.iloc[:, :-1].values\n",
    "y = df.iloc[:, -1].values"
   ]
  },
  {
   "cell_type": "code",
   "execution_count": 154,
   "metadata": {},
   "outputs": [],
   "source": [
    "estimator = RandomForestClassifier(n_jobs=-1, class_weight='balanced', max_depth=5)\n",
    "boruta_selector = BorutaPy(estimator, n_estimators='auto', verbose=2, random_state=42)"
   ]
  },
  {
   "cell_type": "code",
   "execution_count": 157,
   "metadata": {},
   "outputs": [
    {
     "name": "stdout",
     "output_type": "stream",
     "text": [
      "Iteration: \t1 / 100\n",
      "Confirmed: \t0\n",
      "Tentative: \t11\n",
      "Rejected: \t0\n",
      "Iteration: \t2 / 100\n",
      "Confirmed: \t0\n",
      "Tentative: \t11\n",
      "Rejected: \t0\n",
      "Iteration: \t3 / 100\n",
      "Confirmed: \t0\n",
      "Tentative: \t11\n",
      "Rejected: \t0\n",
      "Iteration: \t4 / 100\n",
      "Confirmed: \t0\n",
      "Tentative: \t11\n",
      "Rejected: \t0\n",
      "Iteration: \t5 / 100\n",
      "Confirmed: \t0\n",
      "Tentative: \t11\n",
      "Rejected: \t0\n",
      "Iteration: \t6 / 100\n",
      "Confirmed: \t0\n",
      "Tentative: \t11\n",
      "Rejected: \t0\n",
      "Iteration: \t7 / 100\n",
      "Confirmed: \t0\n",
      "Tentative: \t11\n",
      "Rejected: \t0\n",
      "Iteration: \t8 / 100\n",
      "Confirmed: \t8\n",
      "Tentative: \t1\n",
      "Rejected: \t2\n",
      "Iteration: \t9 / 100\n",
      "Confirmed: \t8\n",
      "Tentative: \t1\n",
      "Rejected: \t2\n",
      "Iteration: \t10 / 100\n",
      "Confirmed: \t8\n",
      "Tentative: \t1\n",
      "Rejected: \t2\n",
      "Iteration: \t11 / 100\n",
      "Confirmed: \t8\n",
      "Tentative: \t1\n",
      "Rejected: \t2\n",
      "Iteration: \t12 / 100\n",
      "Confirmed: \t8\n",
      "Tentative: \t1\n",
      "Rejected: \t2\n",
      "Iteration: \t13 / 100\n",
      "Confirmed: \t8\n",
      "Tentative: \t1\n",
      "Rejected: \t2\n",
      "Iteration: \t14 / 100\n",
      "Confirmed: \t8\n",
      "Tentative: \t1\n",
      "Rejected: \t2\n",
      "Iteration: \t15 / 100\n",
      "Confirmed: \t8\n",
      "Tentative: \t1\n",
      "Rejected: \t2\n",
      "Iteration: \t16 / 100\n",
      "Confirmed: \t8\n",
      "Tentative: \t1\n",
      "Rejected: \t2\n",
      "Iteration: \t17 / 100\n",
      "Confirmed: \t8\n",
      "Tentative: \t1\n",
      "Rejected: \t2\n",
      "Iteration: \t18 / 100\n",
      "Confirmed: \t8\n",
      "Tentative: \t1\n",
      "Rejected: \t2\n",
      "Iteration: \t19 / 100\n",
      "Confirmed: \t8\n",
      "Tentative: \t1\n",
      "Rejected: \t2\n",
      "Iteration: \t20 / 100\n",
      "Confirmed: \t8\n",
      "Tentative: \t1\n",
      "Rejected: \t2\n",
      "Iteration: \t21 / 100\n",
      "Confirmed: \t8\n",
      "Tentative: \t1\n",
      "Rejected: \t2\n",
      "Iteration: \t22 / 100\n",
      "Confirmed: \t8\n",
      "Tentative: \t1\n",
      "Rejected: \t2\n",
      "Iteration: \t23 / 100\n",
      "Confirmed: \t8\n",
      "Tentative: \t1\n",
      "Rejected: \t2\n",
      "Iteration: \t24 / 100\n",
      "Confirmed: \t8\n",
      "Tentative: \t1\n",
      "Rejected: \t2\n",
      "Iteration: \t25 / 100\n",
      "Confirmed: \t8\n",
      "Tentative: \t1\n",
      "Rejected: \t2\n",
      "Iteration: \t26 / 100\n",
      "Confirmed: \t8\n",
      "Tentative: \t1\n",
      "Rejected: \t2\n",
      "Iteration: \t27 / 100\n",
      "Confirmed: \t8\n",
      "Tentative: \t1\n",
      "Rejected: \t2\n",
      "Iteration: \t28 / 100\n",
      "Confirmed: \t8\n",
      "Tentative: \t1\n",
      "Rejected: \t2\n",
      "Iteration: \t29 / 100\n",
      "Confirmed: \t8\n",
      "Tentative: \t1\n",
      "Rejected: \t2\n",
      "Iteration: \t30 / 100\n",
      "Confirmed: \t8\n",
      "Tentative: \t1\n",
      "Rejected: \t2\n",
      "Iteration: \t31 / 100\n",
      "Confirmed: \t8\n",
      "Tentative: \t1\n",
      "Rejected: \t2\n",
      "Iteration: \t32 / 100\n",
      "Confirmed: \t8\n",
      "Tentative: \t1\n",
      "Rejected: \t2\n",
      "Iteration: \t33 / 100\n",
      "Confirmed: \t8\n",
      "Tentative: \t1\n",
      "Rejected: \t2\n",
      "Iteration: \t34 / 100\n",
      "Confirmed: \t8\n",
      "Tentative: \t1\n",
      "Rejected: \t2\n",
      "Iteration: \t35 / 100\n",
      "Confirmed: \t8\n",
      "Tentative: \t1\n",
      "Rejected: \t2\n",
      "Iteration: \t36 / 100\n",
      "Confirmed: \t8\n",
      "Tentative: \t1\n",
      "Rejected: \t2\n",
      "Iteration: \t37 / 100\n",
      "Confirmed: \t8\n",
      "Tentative: \t1\n",
      "Rejected: \t2\n",
      "Iteration: \t38 / 100\n",
      "Confirmed: \t8\n",
      "Tentative: \t1\n",
      "Rejected: \t2\n",
      "Iteration: \t39 / 100\n",
      "Confirmed: \t8\n",
      "Tentative: \t1\n",
      "Rejected: \t2\n",
      "Iteration: \t40 / 100\n",
      "Confirmed: \t8\n",
      "Tentative: \t1\n",
      "Rejected: \t2\n",
      "Iteration: \t41 / 100\n",
      "Confirmed: \t8\n",
      "Tentative: \t1\n",
      "Rejected: \t2\n",
      "Iteration: \t42 / 100\n",
      "Confirmed: \t8\n",
      "Tentative: \t1\n",
      "Rejected: \t2\n",
      "Iteration: \t43 / 100\n",
      "Confirmed: \t8\n",
      "Tentative: \t1\n",
      "Rejected: \t2\n",
      "Iteration: \t44 / 100\n",
      "Confirmed: \t8\n",
      "Tentative: \t1\n",
      "Rejected: \t2\n",
      "Iteration: \t45 / 100\n",
      "Confirmed: \t8\n",
      "Tentative: \t1\n",
      "Rejected: \t2\n",
      "Iteration: \t46 / 100\n",
      "Confirmed: \t8\n",
      "Tentative: \t1\n",
      "Rejected: \t2\n",
      "Iteration: \t47 / 100\n",
      "Confirmed: \t8\n",
      "Tentative: \t1\n",
      "Rejected: \t2\n",
      "Iteration: \t48 / 100\n",
      "Confirmed: \t8\n",
      "Tentative: \t1\n",
      "Rejected: \t2\n",
      "Iteration: \t49 / 100\n",
      "Confirmed: \t8\n",
      "Tentative: \t1\n",
      "Rejected: \t2\n",
      "Iteration: \t50 / 100\n",
      "Confirmed: \t8\n",
      "Tentative: \t1\n",
      "Rejected: \t2\n",
      "Iteration: \t51 / 100\n",
      "Confirmed: \t8\n",
      "Tentative: \t1\n",
      "Rejected: \t2\n",
      "Iteration: \t52 / 100\n",
      "Confirmed: \t8\n",
      "Tentative: \t1\n",
      "Rejected: \t2\n",
      "Iteration: \t53 / 100\n",
      "Confirmed: \t8\n",
      "Tentative: \t1\n",
      "Rejected: \t2\n",
      "Iteration: \t54 / 100\n",
      "Confirmed: \t8\n",
      "Tentative: \t1\n",
      "Rejected: \t2\n",
      "Iteration: \t55 / 100\n",
      "Confirmed: \t8\n",
      "Tentative: \t1\n",
      "Rejected: \t2\n",
      "Iteration: \t56 / 100\n",
      "Confirmed: \t8\n",
      "Tentative: \t1\n",
      "Rejected: \t2\n",
      "Iteration: \t57 / 100\n",
      "Confirmed: \t8\n",
      "Tentative: \t1\n",
      "Rejected: \t2\n",
      "Iteration: \t58 / 100\n",
      "Confirmed: \t8\n",
      "Tentative: \t1\n",
      "Rejected: \t2\n",
      "Iteration: \t59 / 100\n",
      "Confirmed: \t8\n",
      "Tentative: \t1\n",
      "Rejected: \t2\n",
      "Iteration: \t60 / 100\n",
      "Confirmed: \t8\n",
      "Tentative: \t1\n",
      "Rejected: \t2\n",
      "Iteration: \t61 / 100\n",
      "Confirmed: \t8\n",
      "Tentative: \t1\n",
      "Rejected: \t2\n",
      "Iteration: \t62 / 100\n",
      "Confirmed: \t8\n",
      "Tentative: \t1\n",
      "Rejected: \t2\n",
      "Iteration: \t63 / 100\n",
      "Confirmed: \t8\n",
      "Tentative: \t1\n",
      "Rejected: \t2\n",
      "Iteration: \t64 / 100\n",
      "Confirmed: \t8\n",
      "Tentative: \t1\n",
      "Rejected: \t2\n",
      "Iteration: \t65 / 100\n",
      "Confirmed: \t8\n",
      "Tentative: \t0\n",
      "Rejected: \t3\n",
      "\n",
      "\n",
      "BorutaPy finished running.\n",
      "\n",
      "Iteration: \t66 / 100\n",
      "Confirmed: \t8\n",
      "Tentative: \t0\n",
      "Rejected: \t3\n"
     ]
    },
    {
     "data": {
      "text/html": [
       "<style>#sk-container-id-1 {color: black;background-color: white;}#sk-container-id-1 pre{padding: 0;}#sk-container-id-1 div.sk-toggleable {background-color: white;}#sk-container-id-1 label.sk-toggleable__label {cursor: pointer;display: block;width: 100%;margin-bottom: 0;padding: 0.3em;box-sizing: border-box;text-align: center;}#sk-container-id-1 label.sk-toggleable__label-arrow:before {content: \"▸\";float: left;margin-right: 0.25em;color: #696969;}#sk-container-id-1 label.sk-toggleable__label-arrow:hover:before {color: black;}#sk-container-id-1 div.sk-estimator:hover label.sk-toggleable__label-arrow:before {color: black;}#sk-container-id-1 div.sk-toggleable__content {max-height: 0;max-width: 0;overflow: hidden;text-align: left;background-color: #f0f8ff;}#sk-container-id-1 div.sk-toggleable__content pre {margin: 0.2em;color: black;border-radius: 0.25em;background-color: #f0f8ff;}#sk-container-id-1 input.sk-toggleable__control:checked~div.sk-toggleable__content {max-height: 200px;max-width: 100%;overflow: auto;}#sk-container-id-1 input.sk-toggleable__control:checked~label.sk-toggleable__label-arrow:before {content: \"▾\";}#sk-container-id-1 div.sk-estimator input.sk-toggleable__control:checked~label.sk-toggleable__label {background-color: #d4ebff;}#sk-container-id-1 div.sk-label input.sk-toggleable__control:checked~label.sk-toggleable__label {background-color: #d4ebff;}#sk-container-id-1 input.sk-hidden--visually {border: 0;clip: rect(1px 1px 1px 1px);clip: rect(1px, 1px, 1px, 1px);height: 1px;margin: -1px;overflow: hidden;padding: 0;position: absolute;width: 1px;}#sk-container-id-1 div.sk-estimator {font-family: monospace;background-color: #f0f8ff;border: 1px dotted black;border-radius: 0.25em;box-sizing: border-box;margin-bottom: 0.5em;}#sk-container-id-1 div.sk-estimator:hover {background-color: #d4ebff;}#sk-container-id-1 div.sk-parallel-item::after {content: \"\";width: 100%;border-bottom: 1px solid gray;flex-grow: 1;}#sk-container-id-1 div.sk-label:hover label.sk-toggleable__label {background-color: #d4ebff;}#sk-container-id-1 div.sk-serial::before {content: \"\";position: absolute;border-left: 1px solid gray;box-sizing: border-box;top: 0;bottom: 0;left: 50%;z-index: 0;}#sk-container-id-1 div.sk-serial {display: flex;flex-direction: column;align-items: center;background-color: white;padding-right: 0.2em;padding-left: 0.2em;position: relative;}#sk-container-id-1 div.sk-item {position: relative;z-index: 1;}#sk-container-id-1 div.sk-parallel {display: flex;align-items: stretch;justify-content: center;background-color: white;position: relative;}#sk-container-id-1 div.sk-item::before, #sk-container-id-1 div.sk-parallel-item::before {content: \"\";position: absolute;border-left: 1px solid gray;box-sizing: border-box;top: 0;bottom: 0;left: 50%;z-index: -1;}#sk-container-id-1 div.sk-parallel-item {display: flex;flex-direction: column;z-index: 1;position: relative;background-color: white;}#sk-container-id-1 div.sk-parallel-item:first-child::after {align-self: flex-end;width: 50%;}#sk-container-id-1 div.sk-parallel-item:last-child::after {align-self: flex-start;width: 50%;}#sk-container-id-1 div.sk-parallel-item:only-child::after {width: 0;}#sk-container-id-1 div.sk-dashed-wrapped {border: 1px dashed gray;margin: 0 0.4em 0.5em 0.4em;box-sizing: border-box;padding-bottom: 0.4em;background-color: white;}#sk-container-id-1 div.sk-label label {font-family: monospace;font-weight: bold;display: inline-block;line-height: 1.2em;}#sk-container-id-1 div.sk-label-container {text-align: center;}#sk-container-id-1 div.sk-container {/* jupyter's `normalize.less` sets `[hidden] { display: none; }` but bootstrap.min.css set `[hidden] { display: none !important; }` so we also need the `!important` here to be able to override the default hidden behavior on the sphinx rendered scikit-learn.org. See: https://github.com/scikit-learn/scikit-learn/issues/21755 */display: inline-block !important;position: relative;}#sk-container-id-1 div.sk-text-repr-fallback {display: none;}</style><div id=\"sk-container-id-1\" class=\"sk-top-container\"><div class=\"sk-text-repr-fallback\"><pre>BorutaPy(estimator=RandomForestClassifier(class_weight=&#x27;balanced&#x27;, max_depth=5,\n",
       "                                          n_estimators=84, n_jobs=-1,\n",
       "                                          random_state=RandomState(MT19937) at 0x297233FB440),\n",
       "         n_estimators=&#x27;auto&#x27;,\n",
       "         random_state=RandomState(MT19937) at 0x297233FB440, verbose=2)</pre><b>In a Jupyter environment, please rerun this cell to show the HTML representation or trust the notebook. <br />On GitHub, the HTML representation is unable to render, please try loading this page with nbviewer.org.</b></div><div class=\"sk-container\" hidden><div class=\"sk-item sk-dashed-wrapped\"><div class=\"sk-label-container\"><div class=\"sk-label sk-toggleable\"><input class=\"sk-toggleable__control sk-hidden--visually\" id=\"sk-estimator-id-1\" type=\"checkbox\" ><label for=\"sk-estimator-id-1\" class=\"sk-toggleable__label sk-toggleable__label-arrow\">BorutaPy</label><div class=\"sk-toggleable__content\"><pre>BorutaPy(estimator=RandomForestClassifier(class_weight=&#x27;balanced&#x27;, max_depth=5,\n",
       "                                          n_estimators=84, n_jobs=-1,\n",
       "                                          random_state=RandomState(MT19937) at 0x297233FB440),\n",
       "         n_estimators=&#x27;auto&#x27;,\n",
       "         random_state=RandomState(MT19937) at 0x297233FB440, verbose=2)</pre></div></div></div><div class=\"sk-parallel\"><div class=\"sk-parallel-item\"><div class=\"sk-item\"><div class=\"sk-label-container\"><div class=\"sk-label sk-toggleable\"><input class=\"sk-toggleable__control sk-hidden--visually\" id=\"sk-estimator-id-2\" type=\"checkbox\" ><label for=\"sk-estimator-id-2\" class=\"sk-toggleable__label sk-toggleable__label-arrow\">estimator: RandomForestClassifier</label><div class=\"sk-toggleable__content\"><pre>RandomForestClassifier(class_weight=&#x27;balanced&#x27;, max_depth=5, n_estimators=84,\n",
       "                       n_jobs=-1,\n",
       "                       random_state=RandomState(MT19937) at 0x297233FB440)</pre></div></div></div><div class=\"sk-serial\"><div class=\"sk-item\"><div class=\"sk-estimator sk-toggleable\"><input class=\"sk-toggleable__control sk-hidden--visually\" id=\"sk-estimator-id-3\" type=\"checkbox\" ><label for=\"sk-estimator-id-3\" class=\"sk-toggleable__label sk-toggleable__label-arrow\">RandomForestClassifier</label><div class=\"sk-toggleable__content\"><pre>RandomForestClassifier(class_weight=&#x27;balanced&#x27;, max_depth=5, n_estimators=84,\n",
       "                       n_jobs=-1,\n",
       "                       random_state=RandomState(MT19937) at 0x297233FB440)</pre></div></div></div></div></div></div></div></div></div></div>"
      ],
      "text/plain": [
       "BorutaPy(estimator=RandomForestClassifier(class_weight='balanced', max_depth=5,\n",
       "                                          n_estimators=84, n_jobs=-1,\n",
       "                                          random_state=RandomState(MT19937) at 0x297233FB440),\n",
       "         n_estimators='auto',\n",
       "         random_state=RandomState(MT19937) at 0x297233FB440, verbose=2)"
      ]
     },
     "execution_count": 157,
     "metadata": {},
     "output_type": "execute_result"
    }
   ],
   "source": [
    "boruta_selector.fit(X, y)"
   ]
  },
  {
   "cell_type": "code",
   "execution_count": 158,
   "metadata": {},
   "outputs": [
    {
     "name": "stdout",
     "output_type": "stream",
     "text": [
      "Index(['SeniorCitizen (No-0, Yes-1)', 'Partner (No-0, Yes-1)',\n",
      "       'Tenure (Months)', 'InternetService (DSL-0, FO-1, NO-2)',\n",
      "       'Contract (M to M-0, 1 Year-1, 2 Years-2)',\n",
      "       'PaymentMethod(BT-0, CC-1, EC-2, MC-3)', 'MonthlyCharges',\n",
      "       'TotalCharges'],\n",
      "      dtype='object')\n"
     ]
    }
   ],
   "source": [
    "selected_features = df.columns[:-1][boruta_selector.support_]\n",
    "print(selected_features)"
   ]
  },
  {
   "cell_type": "code",
   "execution_count": 129,
=======
   "execution_count": 4,
>>>>>>> cf562fdd558352be8495cb882a812f43172a4d33
   "metadata": {},
   "outputs": [
    {
     "data": {
      "text/html": [
       "<div>\n",
       "<style scoped>\n",
       "    .dataframe tbody tr th:only-of-type {\n",
       "        vertical-align: middle;\n",
       "    }\n",
       "\n",
       "    .dataframe tbody tr th {\n",
       "        vertical-align: top;\n",
       "    }\n",
       "\n",
       "    .dataframe thead th {\n",
       "        text-align: right;\n",
       "    }\n",
       "</style>\n",
       "<table border=\"1\" class=\"dataframe\">\n",
       "  <thead>\n",
       "    <tr style=\"text-align: right;\">\n",
       "      <th></th>\n",
       "      <th>customerID</th>\n",
       "      <th>gender</th>\n",
       "      <th>SeniorCitizen</th>\n",
       "      <th>Partner</th>\n",
       "      <th>Dependents</th>\n",
       "      <th>tenure</th>\n",
       "      <th>PhoneService</th>\n",
       "      <th>MultipleLines</th>\n",
       "      <th>InternetService</th>\n",
       "      <th>OnlineSecurity</th>\n",
       "      <th>...</th>\n",
       "      <th>DeviceProtection</th>\n",
       "      <th>TechSupport</th>\n",
       "      <th>StreamingTV</th>\n",
       "      <th>StreamingMovies</th>\n",
       "      <th>Contract</th>\n",
       "      <th>PaperlessBilling</th>\n",
       "      <th>PaymentMethod</th>\n",
       "      <th>MonthlyCharges</th>\n",
       "      <th>TotalCharges</th>\n",
       "      <th>Churn</th>\n",
       "    </tr>\n",
       "  </thead>\n",
       "  <tbody>\n",
       "    <tr>\n",
       "      <th>0</th>\n",
       "      <td>7590-VHVEG</td>\n",
       "      <td>Female</td>\n",
       "      <td>0</td>\n",
       "      <td>Yes</td>\n",
       "      <td>No</td>\n",
       "      <td>1</td>\n",
       "      <td>No</td>\n",
       "      <td>No phone service</td>\n",
       "      <td>DSL</td>\n",
       "      <td>No</td>\n",
       "      <td>...</td>\n",
       "      <td>No</td>\n",
       "      <td>No</td>\n",
       "      <td>No</td>\n",
       "      <td>No</td>\n",
       "      <td>Month-to-month</td>\n",
       "      <td>Yes</td>\n",
       "      <td>Electronic check</td>\n",
       "      <td>29.85</td>\n",
       "      <td>29.85</td>\n",
       "      <td>No</td>\n",
       "    </tr>\n",
       "    <tr>\n",
       "      <th>1</th>\n",
       "      <td>5575-GNVDE</td>\n",
       "      <td>Male</td>\n",
       "      <td>0</td>\n",
       "      <td>No</td>\n",
       "      <td>No</td>\n",
       "      <td>34</td>\n",
       "      <td>Yes</td>\n",
       "      <td>No</td>\n",
       "      <td>DSL</td>\n",
       "      <td>Yes</td>\n",
       "      <td>...</td>\n",
       "      <td>Yes</td>\n",
       "      <td>No</td>\n",
       "      <td>No</td>\n",
       "      <td>No</td>\n",
       "      <td>One year</td>\n",
       "      <td>No</td>\n",
       "      <td>Mailed check</td>\n",
       "      <td>56.95</td>\n",
       "      <td>1889.5</td>\n",
       "      <td>No</td>\n",
       "    </tr>\n",
       "    <tr>\n",
       "      <th>2</th>\n",
       "      <td>3668-QPYBK</td>\n",
       "      <td>Male</td>\n",
       "      <td>0</td>\n",
       "      <td>No</td>\n",
       "      <td>No</td>\n",
       "      <td>2</td>\n",
       "      <td>Yes</td>\n",
       "      <td>No</td>\n",
       "      <td>DSL</td>\n",
       "      <td>Yes</td>\n",
       "      <td>...</td>\n",
       "      <td>No</td>\n",
       "      <td>No</td>\n",
       "      <td>No</td>\n",
       "      <td>No</td>\n",
       "      <td>Month-to-month</td>\n",
       "      <td>Yes</td>\n",
       "      <td>Mailed check</td>\n",
       "      <td>53.85</td>\n",
       "      <td>108.15</td>\n",
       "      <td>Yes</td>\n",
       "    </tr>\n",
       "    <tr>\n",
       "      <th>3</th>\n",
       "      <td>7795-CFOCW</td>\n",
       "      <td>Male</td>\n",
       "      <td>0</td>\n",
       "      <td>No</td>\n",
       "      <td>No</td>\n",
       "      <td>45</td>\n",
       "      <td>No</td>\n",
       "      <td>No phone service</td>\n",
       "      <td>DSL</td>\n",
       "      <td>Yes</td>\n",
       "      <td>...</td>\n",
       "      <td>Yes</td>\n",
       "      <td>Yes</td>\n",
       "      <td>No</td>\n",
       "      <td>No</td>\n",
       "      <td>One year</td>\n",
       "      <td>No</td>\n",
       "      <td>Bank transfer (automatic)</td>\n",
       "      <td>42.30</td>\n",
       "      <td>1840.75</td>\n",
       "      <td>No</td>\n",
       "    </tr>\n",
       "    <tr>\n",
       "      <th>4</th>\n",
       "      <td>9237-HQITU</td>\n",
       "      <td>Female</td>\n",
       "      <td>0</td>\n",
       "      <td>No</td>\n",
       "      <td>No</td>\n",
       "      <td>2</td>\n",
       "      <td>Yes</td>\n",
       "      <td>No</td>\n",
       "      <td>Fiber optic</td>\n",
       "      <td>No</td>\n",
       "      <td>...</td>\n",
       "      <td>No</td>\n",
       "      <td>No</td>\n",
       "      <td>No</td>\n",
       "      <td>No</td>\n",
       "      <td>Month-to-month</td>\n",
       "      <td>Yes</td>\n",
       "      <td>Electronic check</td>\n",
       "      <td>70.70</td>\n",
       "      <td>151.65</td>\n",
       "      <td>Yes</td>\n",
       "    </tr>\n",
       "    <tr>\n",
       "      <th>5</th>\n",
       "      <td>9305-CDSKC</td>\n",
       "      <td>Female</td>\n",
       "      <td>0</td>\n",
       "      <td>No</td>\n",
       "      <td>No</td>\n",
       "      <td>8</td>\n",
       "      <td>Yes</td>\n",
       "      <td>Yes</td>\n",
       "      <td>Fiber optic</td>\n",
       "      <td>No</td>\n",
       "      <td>...</td>\n",
       "      <td>Yes</td>\n",
       "      <td>No</td>\n",
       "      <td>Yes</td>\n",
       "      <td>Yes</td>\n",
       "      <td>Month-to-month</td>\n",
       "      <td>Yes</td>\n",
       "      <td>Electronic check</td>\n",
       "      <td>99.65</td>\n",
       "      <td>820.5</td>\n",
       "      <td>Yes</td>\n",
       "    </tr>\n",
       "    <tr>\n",
       "      <th>6</th>\n",
       "      <td>1452-KIOVK</td>\n",
       "      <td>Male</td>\n",
       "      <td>0</td>\n",
       "      <td>No</td>\n",
       "      <td>Yes</td>\n",
       "      <td>22</td>\n",
       "      <td>Yes</td>\n",
       "      <td>Yes</td>\n",
       "      <td>Fiber optic</td>\n",
       "      <td>No</td>\n",
       "      <td>...</td>\n",
       "      <td>No</td>\n",
       "      <td>No</td>\n",
       "      <td>Yes</td>\n",
       "      <td>No</td>\n",
       "      <td>Month-to-month</td>\n",
       "      <td>Yes</td>\n",
       "      <td>Credit card (automatic)</td>\n",
       "      <td>89.10</td>\n",
       "      <td>1949.4</td>\n",
       "      <td>No</td>\n",
       "    </tr>\n",
       "    <tr>\n",
       "      <th>7</th>\n",
       "      <td>6713-OKOMC</td>\n",
       "      <td>Female</td>\n",
       "      <td>0</td>\n",
       "      <td>No</td>\n",
       "      <td>No</td>\n",
       "      <td>10</td>\n",
       "      <td>No</td>\n",
       "      <td>No phone service</td>\n",
       "      <td>DSL</td>\n",
       "      <td>Yes</td>\n",
       "      <td>...</td>\n",
       "      <td>No</td>\n",
       "      <td>No</td>\n",
       "      <td>No</td>\n",
       "      <td>No</td>\n",
       "      <td>Month-to-month</td>\n",
       "      <td>No</td>\n",
       "      <td>Mailed check</td>\n",
       "      <td>29.75</td>\n",
       "      <td>301.9</td>\n",
       "      <td>No</td>\n",
       "    </tr>\n",
       "    <tr>\n",
       "      <th>8</th>\n",
       "      <td>7892-POOKP</td>\n",
       "      <td>Female</td>\n",
       "      <td>0</td>\n",
       "      <td>Yes</td>\n",
       "      <td>No</td>\n",
       "      <td>28</td>\n",
       "      <td>Yes</td>\n",
       "      <td>Yes</td>\n",
       "      <td>Fiber optic</td>\n",
       "      <td>No</td>\n",
       "      <td>...</td>\n",
       "      <td>Yes</td>\n",
       "      <td>Yes</td>\n",
       "      <td>Yes</td>\n",
       "      <td>Yes</td>\n",
       "      <td>Month-to-month</td>\n",
       "      <td>Yes</td>\n",
       "      <td>Electronic check</td>\n",
       "      <td>104.80</td>\n",
       "      <td>3046.05</td>\n",
       "      <td>Yes</td>\n",
       "    </tr>\n",
       "    <tr>\n",
       "      <th>9</th>\n",
       "      <td>6388-TABGU</td>\n",
       "      <td>Male</td>\n",
       "      <td>0</td>\n",
       "      <td>No</td>\n",
       "      <td>Yes</td>\n",
       "      <td>62</td>\n",
       "      <td>Yes</td>\n",
       "      <td>No</td>\n",
       "      <td>DSL</td>\n",
       "      <td>Yes</td>\n",
       "      <td>...</td>\n",
       "      <td>No</td>\n",
       "      <td>No</td>\n",
       "      <td>No</td>\n",
       "      <td>No</td>\n",
       "      <td>One year</td>\n",
       "      <td>No</td>\n",
       "      <td>Bank transfer (automatic)</td>\n",
       "      <td>56.15</td>\n",
       "      <td>3487.95</td>\n",
       "      <td>No</td>\n",
       "    </tr>\n",
       "    <tr>\n",
       "      <th>10</th>\n",
       "      <td>9763-GRSKD</td>\n",
       "      <td>Male</td>\n",
       "      <td>0</td>\n",
       "      <td>Yes</td>\n",
       "      <td>Yes</td>\n",
       "      <td>13</td>\n",
       "      <td>Yes</td>\n",
       "      <td>No</td>\n",
       "      <td>DSL</td>\n",
       "      <td>Yes</td>\n",
       "      <td>...</td>\n",
       "      <td>No</td>\n",
       "      <td>No</td>\n",
       "      <td>No</td>\n",
       "      <td>No</td>\n",
       "      <td>Month-to-month</td>\n",
       "      <td>Yes</td>\n",
       "      <td>Mailed check</td>\n",
       "      <td>49.95</td>\n",
       "      <td>587.45</td>\n",
       "      <td>No</td>\n",
       "    </tr>\n",
       "    <tr>\n",
       "      <th>11</th>\n",
       "      <td>7469-LKBCI</td>\n",
       "      <td>Male</td>\n",
       "      <td>0</td>\n",
       "      <td>No</td>\n",
       "      <td>No</td>\n",
       "      <td>16</td>\n",
       "      <td>Yes</td>\n",
       "      <td>No</td>\n",
       "      <td>No</td>\n",
       "      <td>No internet service</td>\n",
       "      <td>...</td>\n",
       "      <td>No internet service</td>\n",
       "      <td>No internet service</td>\n",
       "      <td>No internet service</td>\n",
       "      <td>No internet service</td>\n",
       "      <td>Two year</td>\n",
       "      <td>No</td>\n",
       "      <td>Credit card (automatic)</td>\n",
       "      <td>18.95</td>\n",
       "      <td>326.8</td>\n",
       "      <td>No</td>\n",
       "    </tr>\n",
       "    <tr>\n",
       "      <th>12</th>\n",
       "      <td>8091-TTVAX</td>\n",
       "      <td>Male</td>\n",
       "      <td>0</td>\n",
       "      <td>Yes</td>\n",
       "      <td>No</td>\n",
       "      <td>58</td>\n",
       "      <td>Yes</td>\n",
       "      <td>Yes</td>\n",
       "      <td>Fiber optic</td>\n",
       "      <td>No</td>\n",
       "      <td>...</td>\n",
       "      <td>Yes</td>\n",
       "      <td>No</td>\n",
       "      <td>Yes</td>\n",
       "      <td>Yes</td>\n",
       "      <td>One year</td>\n",
       "      <td>No</td>\n",
       "      <td>Credit card (automatic)</td>\n",
       "      <td>100.35</td>\n",
       "      <td>5681.1</td>\n",
       "      <td>No</td>\n",
       "    </tr>\n",
       "    <tr>\n",
       "      <th>13</th>\n",
       "      <td>0280-XJGEX</td>\n",
       "      <td>Male</td>\n",
       "      <td>0</td>\n",
       "      <td>No</td>\n",
       "      <td>No</td>\n",
       "      <td>49</td>\n",
       "      <td>Yes</td>\n",
       "      <td>Yes</td>\n",
       "      <td>Fiber optic</td>\n",
       "      <td>No</td>\n",
       "      <td>...</td>\n",
       "      <td>Yes</td>\n",
       "      <td>No</td>\n",
       "      <td>Yes</td>\n",
       "      <td>Yes</td>\n",
       "      <td>Month-to-month</td>\n",
       "      <td>Yes</td>\n",
       "      <td>Bank transfer (automatic)</td>\n",
       "      <td>103.70</td>\n",
       "      <td>5036.3</td>\n",
       "      <td>Yes</td>\n",
       "    </tr>\n",
       "    <tr>\n",
       "      <th>14</th>\n",
       "      <td>5129-JLPIS</td>\n",
       "      <td>Male</td>\n",
       "      <td>0</td>\n",
       "      <td>No</td>\n",
       "      <td>No</td>\n",
       "      <td>25</td>\n",
       "      <td>Yes</td>\n",
       "      <td>No</td>\n",
       "      <td>Fiber optic</td>\n",
       "      <td>Yes</td>\n",
       "      <td>...</td>\n",
       "      <td>Yes</td>\n",
       "      <td>Yes</td>\n",
       "      <td>Yes</td>\n",
       "      <td>Yes</td>\n",
       "      <td>Month-to-month</td>\n",
       "      <td>Yes</td>\n",
       "      <td>Electronic check</td>\n",
       "      <td>105.50</td>\n",
       "      <td>2686.05</td>\n",
       "      <td>No</td>\n",
       "    </tr>\n",
       "  </tbody>\n",
       "</table>\n",
       "<p>15 rows × 21 columns</p>\n",
       "</div>"
      ],
      "text/plain": [
       "    customerID  gender  SeniorCitizen Partner Dependents  tenure PhoneService  \\\n",
       "0   7590-VHVEG  Female              0     Yes         No       1           No   \n",
       "1   5575-GNVDE    Male              0      No         No      34          Yes   \n",
       "2   3668-QPYBK    Male              0      No         No       2          Yes   \n",
       "3   7795-CFOCW    Male              0      No         No      45           No   \n",
       "4   9237-HQITU  Female              0      No         No       2          Yes   \n",
       "5   9305-CDSKC  Female              0      No         No       8          Yes   \n",
       "6   1452-KIOVK    Male              0      No        Yes      22          Yes   \n",
       "7   6713-OKOMC  Female              0      No         No      10           No   \n",
       "8   7892-POOKP  Female              0     Yes         No      28          Yes   \n",
       "9   6388-TABGU    Male              0      No        Yes      62          Yes   \n",
       "10  9763-GRSKD    Male              0     Yes        Yes      13          Yes   \n",
       "11  7469-LKBCI    Male              0      No         No      16          Yes   \n",
       "12  8091-TTVAX    Male              0     Yes         No      58          Yes   \n",
       "13  0280-XJGEX    Male              0      No         No      49          Yes   \n",
       "14  5129-JLPIS    Male              0      No         No      25          Yes   \n",
       "\n",
       "       MultipleLines InternetService       OnlineSecurity  ...  \\\n",
       "0   No phone service             DSL                   No  ...   \n",
       "1                 No             DSL                  Yes  ...   \n",
       "2                 No             DSL                  Yes  ...   \n",
       "3   No phone service             DSL                  Yes  ...   \n",
       "4                 No     Fiber optic                   No  ...   \n",
       "5                Yes     Fiber optic                   No  ...   \n",
       "6                Yes     Fiber optic                   No  ...   \n",
       "7   No phone service             DSL                  Yes  ...   \n",
       "8                Yes     Fiber optic                   No  ...   \n",
       "9                 No             DSL                  Yes  ...   \n",
       "10                No             DSL                  Yes  ...   \n",
       "11                No              No  No internet service  ...   \n",
       "12               Yes     Fiber optic                   No  ...   \n",
       "13               Yes     Fiber optic                   No  ...   \n",
       "14                No     Fiber optic                  Yes  ...   \n",
       "\n",
       "       DeviceProtection          TechSupport          StreamingTV  \\\n",
       "0                    No                   No                   No   \n",
       "1                   Yes                   No                   No   \n",
       "2                    No                   No                   No   \n",
       "3                   Yes                  Yes                   No   \n",
       "4                    No                   No                   No   \n",
       "5                   Yes                   No                  Yes   \n",
       "6                    No                   No                  Yes   \n",
       "7                    No                   No                   No   \n",
       "8                   Yes                  Yes                  Yes   \n",
       "9                    No                   No                   No   \n",
       "10                   No                   No                   No   \n",
       "11  No internet service  No internet service  No internet service   \n",
       "12                  Yes                   No                  Yes   \n",
       "13                  Yes                   No                  Yes   \n",
       "14                  Yes                  Yes                  Yes   \n",
       "\n",
       "        StreamingMovies        Contract PaperlessBilling  \\\n",
       "0                    No  Month-to-month              Yes   \n",
       "1                    No        One year               No   \n",
       "2                    No  Month-to-month              Yes   \n",
       "3                    No        One year               No   \n",
       "4                    No  Month-to-month              Yes   \n",
       "5                   Yes  Month-to-month              Yes   \n",
       "6                    No  Month-to-month              Yes   \n",
       "7                    No  Month-to-month               No   \n",
       "8                   Yes  Month-to-month              Yes   \n",
       "9                    No        One year               No   \n",
       "10                   No  Month-to-month              Yes   \n",
       "11  No internet service        Two year               No   \n",
       "12                  Yes        One year               No   \n",
       "13                  Yes  Month-to-month              Yes   \n",
       "14                  Yes  Month-to-month              Yes   \n",
       "\n",
       "                PaymentMethod MonthlyCharges  TotalCharges Churn  \n",
       "0            Electronic check          29.85         29.85    No  \n",
       "1                Mailed check          56.95        1889.5    No  \n",
       "2                Mailed check          53.85        108.15   Yes  \n",
       "3   Bank transfer (automatic)          42.30       1840.75    No  \n",
       "4            Electronic check          70.70        151.65   Yes  \n",
       "5            Electronic check          99.65         820.5   Yes  \n",
       "6     Credit card (automatic)          89.10        1949.4    No  \n",
       "7                Mailed check          29.75         301.9    No  \n",
       "8            Electronic check         104.80       3046.05   Yes  \n",
       "9   Bank transfer (automatic)          56.15       3487.95    No  \n",
       "10               Mailed check          49.95        587.45    No  \n",
       "11    Credit card (automatic)          18.95         326.8    No  \n",
       "12    Credit card (automatic)         100.35        5681.1    No  \n",
       "13  Bank transfer (automatic)         103.70        5036.3   Yes  \n",
       "14           Electronic check         105.50       2686.05    No  \n",
       "\n",
       "[15 rows x 21 columns]"
      ]
     },
<<<<<<< HEAD
     "execution_count": 129,
=======
     "execution_count": 4,
>>>>>>> cf562fdd558352be8495cb882a812f43172a4d33
     "metadata": {},
     "output_type": "execute_result"
    }
   ],
   "source": [
    "df.head(15)"
   ]
  },
  {
   "cell_type": "code",
<<<<<<< HEAD
   "execution_count": 130,
=======
   "execution_count": 5,
>>>>>>> cf562fdd558352be8495cb882a812f43172a4d33
   "metadata": {},
   "outputs": [
    {
     "data": {
      "text/plain": [
       "customerID           object\n",
       "gender               object\n",
       "SeniorCitizen         int64\n",
       "Partner              object\n",
       "Dependents           object\n",
       "tenure                int64\n",
       "PhoneService         object\n",
       "MultipleLines        object\n",
       "InternetService      object\n",
       "OnlineSecurity       object\n",
       "OnlineBackup         object\n",
       "DeviceProtection     object\n",
       "TechSupport          object\n",
       "StreamingTV          object\n",
       "StreamingMovies      object\n",
       "Contract             object\n",
       "PaperlessBilling     object\n",
       "PaymentMethod        object\n",
       "MonthlyCharges      float64\n",
       "TotalCharges         object\n",
       "Churn                object\n",
       "dtype: object"
      ]
     },
<<<<<<< HEAD
     "execution_count": 130,
=======
     "execution_count": 5,
>>>>>>> cf562fdd558352be8495cb882a812f43172a4d33
     "metadata": {},
     "output_type": "execute_result"
    }
   ],
   "source": [
    "df.dtypes"
   ]
  },
  {
   "cell_type": "code",
<<<<<<< HEAD
   "execution_count": 131,
=======
   "execution_count": 6,
>>>>>>> cf562fdd558352be8495cb882a812f43172a4d33
   "metadata": {},
   "outputs": [],
   "source": [
    "def produce_missing_report(df):\n",
    "    percent_missing = df.isnull().sum() * 100 / len(df)\n",
    "    missing_value_df = pd.DataFrame({'column_name': df.columns,\n",
    "                                     'percent_missing': percent_missing})\n",
    "    return missing_value_df"
   ]
  },
  {
   "cell_type": "code",
<<<<<<< HEAD
   "execution_count": 132,
=======
   "execution_count": 7,
>>>>>>> cf562fdd558352be8495cb882a812f43172a4d33
   "metadata": {},
   "outputs": [
    {
     "data": {
      "text/html": [
       "<div>\n",
       "<style scoped>\n",
       "    .dataframe tbody tr th:only-of-type {\n",
       "        vertical-align: middle;\n",
       "    }\n",
       "\n",
       "    .dataframe tbody tr th {\n",
       "        vertical-align: top;\n",
       "    }\n",
       "\n",
       "    .dataframe thead th {\n",
       "        text-align: right;\n",
       "    }\n",
       "</style>\n",
       "<table border=\"1\" class=\"dataframe\">\n",
       "  <thead>\n",
       "    <tr style=\"text-align: right;\">\n",
       "      <th></th>\n",
       "      <th>column_name</th>\n",
       "      <th>percent_missing</th>\n",
       "    </tr>\n",
       "  </thead>\n",
       "  <tbody>\n",
       "    <tr>\n",
       "      <th>customerID</th>\n",
       "      <td>customerID</td>\n",
       "      <td>0.0</td>\n",
       "    </tr>\n",
       "    <tr>\n",
       "      <th>gender</th>\n",
       "      <td>gender</td>\n",
       "      <td>0.0</td>\n",
       "    </tr>\n",
       "    <tr>\n",
       "      <th>SeniorCitizen</th>\n",
       "      <td>SeniorCitizen</td>\n",
       "      <td>0.0</td>\n",
       "    </tr>\n",
       "    <tr>\n",
       "      <th>Partner</th>\n",
       "      <td>Partner</td>\n",
       "      <td>0.0</td>\n",
       "    </tr>\n",
       "    <tr>\n",
       "      <th>Dependents</th>\n",
       "      <td>Dependents</td>\n",
       "      <td>0.0</td>\n",
       "    </tr>\n",
       "    <tr>\n",
       "      <th>tenure</th>\n",
       "      <td>tenure</td>\n",
       "      <td>0.0</td>\n",
       "    </tr>\n",
       "    <tr>\n",
       "      <th>PhoneService</th>\n",
       "      <td>PhoneService</td>\n",
       "      <td>0.0</td>\n",
       "    </tr>\n",
       "    <tr>\n",
       "      <th>MultipleLines</th>\n",
       "      <td>MultipleLines</td>\n",
       "      <td>0.0</td>\n",
       "    </tr>\n",
       "    <tr>\n",
       "      <th>InternetService</th>\n",
       "      <td>InternetService</td>\n",
       "      <td>0.0</td>\n",
       "    </tr>\n",
       "    <tr>\n",
       "      <th>OnlineSecurity</th>\n",
       "      <td>OnlineSecurity</td>\n",
       "      <td>0.0</td>\n",
       "    </tr>\n",
       "    <tr>\n",
       "      <th>OnlineBackup</th>\n",
       "      <td>OnlineBackup</td>\n",
       "      <td>0.0</td>\n",
       "    </tr>\n",
       "    <tr>\n",
       "      <th>DeviceProtection</th>\n",
       "      <td>DeviceProtection</td>\n",
       "      <td>0.0</td>\n",
       "    </tr>\n",
       "    <tr>\n",
       "      <th>TechSupport</th>\n",
       "      <td>TechSupport</td>\n",
       "      <td>0.0</td>\n",
       "    </tr>\n",
       "    <tr>\n",
       "      <th>StreamingTV</th>\n",
       "      <td>StreamingTV</td>\n",
       "      <td>0.0</td>\n",
       "    </tr>\n",
       "    <tr>\n",
       "      <th>StreamingMovies</th>\n",
       "      <td>StreamingMovies</td>\n",
       "      <td>0.0</td>\n",
       "    </tr>\n",
       "    <tr>\n",
       "      <th>Contract</th>\n",
       "      <td>Contract</td>\n",
       "      <td>0.0</td>\n",
       "    </tr>\n",
       "    <tr>\n",
       "      <th>PaperlessBilling</th>\n",
       "      <td>PaperlessBilling</td>\n",
       "      <td>0.0</td>\n",
       "    </tr>\n",
       "    <tr>\n",
       "      <th>PaymentMethod</th>\n",
       "      <td>PaymentMethod</td>\n",
       "      <td>0.0</td>\n",
       "    </tr>\n",
       "    <tr>\n",
       "      <th>MonthlyCharges</th>\n",
       "      <td>MonthlyCharges</td>\n",
       "      <td>0.0</td>\n",
       "    </tr>\n",
       "    <tr>\n",
       "      <th>TotalCharges</th>\n",
       "      <td>TotalCharges</td>\n",
       "      <td>0.0</td>\n",
       "    </tr>\n",
       "    <tr>\n",
       "      <th>Churn</th>\n",
       "      <td>Churn</td>\n",
       "      <td>0.0</td>\n",
       "    </tr>\n",
       "  </tbody>\n",
       "</table>\n",
       "</div>"
      ],
      "text/plain": [
       "                       column_name  percent_missing\n",
       "customerID              customerID              0.0\n",
       "gender                      gender              0.0\n",
       "SeniorCitizen        SeniorCitizen              0.0\n",
       "Partner                    Partner              0.0\n",
       "Dependents              Dependents              0.0\n",
       "tenure                      tenure              0.0\n",
       "PhoneService          PhoneService              0.0\n",
       "MultipleLines        MultipleLines              0.0\n",
       "InternetService    InternetService              0.0\n",
       "OnlineSecurity      OnlineSecurity              0.0\n",
       "OnlineBackup          OnlineBackup              0.0\n",
       "DeviceProtection  DeviceProtection              0.0\n",
       "TechSupport            TechSupport              0.0\n",
       "StreamingTV            StreamingTV              0.0\n",
       "StreamingMovies    StreamingMovies              0.0\n",
       "Contract                  Contract              0.0\n",
       "PaperlessBilling  PaperlessBilling              0.0\n",
       "PaymentMethod        PaymentMethod              0.0\n",
       "MonthlyCharges      MonthlyCharges              0.0\n",
       "TotalCharges          TotalCharges              0.0\n",
       "Churn                        Churn              0.0"
      ]
     },
<<<<<<< HEAD
     "execution_count": 132,
=======
     "execution_count": 7,
>>>>>>> cf562fdd558352be8495cb882a812f43172a4d33
     "metadata": {},
     "output_type": "execute_result"
    }
   ],
   "source": [
    "produce_missing_report(df)"
   ]
  },
  {
   "cell_type": "code",
<<<<<<< HEAD
   "execution_count": 133,
=======
   "execution_count": 8,
>>>>>>> cf562fdd558352be8495cb882a812f43172a4d33
   "metadata": {},
   "outputs": [
    {
     "data": {
      "text/plain": [
       "No     5174\n",
       "Yes    1869\n",
       "Name: Churn, dtype: int64"
      ]
     },
<<<<<<< HEAD
     "execution_count": 133,
=======
     "execution_count": 8,
>>>>>>> cf562fdd558352be8495cb882a812f43172a4d33
     "metadata": {},
     "output_type": "execute_result"
    }
   ],
   "source": [
    "df['Churn'].value_counts()"
   ]
  },
  {
   "cell_type": "code",
<<<<<<< HEAD
   "execution_count": 134,
=======
   "execution_count": 9,
>>>>>>> cf562fdd558352be8495cb882a812f43172a4d33
   "metadata": {},
   "outputs": [
    {
     "data": {
      "text/html": [
       "<div>\n",
       "<style scoped>\n",
       "    .dataframe tbody tr th:only-of-type {\n",
       "        vertical-align: middle;\n",
       "    }\n",
       "\n",
       "    .dataframe tbody tr th {\n",
       "        vertical-align: top;\n",
       "    }\n",
       "\n",
       "    .dataframe thead th {\n",
       "        text-align: right;\n",
       "    }\n",
       "</style>\n",
       "<table border=\"1\" class=\"dataframe\">\n",
       "  <thead>\n",
       "    <tr style=\"text-align: right;\">\n",
       "      <th></th>\n",
       "      <th>customerID</th>\n",
       "      <th>gender</th>\n",
       "      <th>SeniorCitizen</th>\n",
       "      <th>Partner</th>\n",
       "      <th>Dependents</th>\n",
       "      <th>tenure</th>\n",
       "      <th>PhoneService</th>\n",
       "      <th>MultipleLines</th>\n",
       "      <th>InternetService</th>\n",
       "      <th>OnlineSecurity</th>\n",
       "      <th>...</th>\n",
       "      <th>DeviceProtection</th>\n",
       "      <th>TechSupport</th>\n",
       "      <th>StreamingTV</th>\n",
       "      <th>StreamingMovies</th>\n",
       "      <th>Contract</th>\n",
       "      <th>PaperlessBilling</th>\n",
       "      <th>PaymentMethod</th>\n",
       "      <th>MonthlyCharges</th>\n",
       "      <th>TotalCharges</th>\n",
       "      <th>Churn</th>\n",
       "    </tr>\n",
       "  </thead>\n",
       "  <tbody>\n",
       "  </tbody>\n",
       "</table>\n",
       "<p>0 rows × 21 columns</p>\n",
       "</div>"
      ],
      "text/plain": [
       "Empty DataFrame\n",
       "Columns: [customerID, gender, SeniorCitizen, Partner, Dependents, tenure, PhoneService, MultipleLines, InternetService, OnlineSecurity, OnlineBackup, DeviceProtection, TechSupport, StreamingTV, StreamingMovies, Contract, PaperlessBilling, PaymentMethod, MonthlyCharges, TotalCharges, Churn]\n",
       "Index: []\n",
       "\n",
       "[0 rows x 21 columns]"
      ]
     },
<<<<<<< HEAD
     "execution_count": 134,
=======
     "execution_count": 9,
>>>>>>> cf562fdd558352be8495cb882a812f43172a4d33
     "metadata": {},
     "output_type": "execute_result"
    }
   ],
   "source": [
    "df[df.duplicated()]"
   ]
  },
  {
   "cell_type": "code",
<<<<<<< HEAD
   "execution_count": 135,
=======
   "execution_count": 10,
>>>>>>> cf562fdd558352be8495cb882a812f43172a4d33
   "metadata": {},
   "outputs": [],
   "source": [
    "to_drop = ['customerID', 'Dependents', 'OnlineSecurity', 'OnlineBackup', 'DeviceProtection', 'TechSupport', 'StreamingTV', 'StreamingMovies', 'PaperlessBilling']\n",
    "df = df.drop(to_drop, axis=1)"
   ]
  },
  {
   "cell_type": "code",
<<<<<<< HEAD
   "execution_count": 136,
=======
   "execution_count": 11,
>>>>>>> cf562fdd558352be8495cb882a812f43172a4d33
   "metadata": {},
   "outputs": [
    {
     "data": {
      "text/plain": [
       "gender              object\n",
       "SeniorCitizen        int64\n",
       "Partner             object\n",
       "tenure               int64\n",
       "PhoneService        object\n",
       "MultipleLines       object\n",
       "InternetService     object\n",
       "Contract            object\n",
       "PaymentMethod       object\n",
       "MonthlyCharges     float64\n",
       "TotalCharges        object\n",
       "Churn               object\n",
       "dtype: object"
      ]
     },
<<<<<<< HEAD
     "execution_count": 136,
=======
     "execution_count": 11,
>>>>>>> cf562fdd558352be8495cb882a812f43172a4d33
     "metadata": {},
     "output_type": "execute_result"
    }
   ],
   "source": [
    "df.dtypes"
   ]
  },
  {
   "cell_type": "code",
<<<<<<< HEAD
   "execution_count": 137,
=======
   "execution_count": 12,
>>>>>>> cf562fdd558352be8495cb882a812f43172a4d33
   "metadata": {},
   "outputs": [],
   "source": [
    "le = LabelEncoder()"
   ]
  },
  {
   "attachments": {},
   "cell_type": "markdown",
   "metadata": {},
   "source": [
    "Gender: Male-0, Female-1"
   ]
  },
  {
   "cell_type": "code",
<<<<<<< HEAD
   "execution_count": 138,
=======
   "execution_count": 13,
>>>>>>> cf562fdd558352be8495cb882a812f43172a4d33
   "metadata": {},
   "outputs": [],
   "source": [
    "df['gender'] = le.fit_transform(df['gender'])"
   ]
  },
  {
   "attachments": {},
   "cell_type": "markdown",
   "metadata": {},
   "source": [
    "PhoneService: Yes-1, No-0"
   ]
  },
  {
   "cell_type": "code",
<<<<<<< HEAD
   "execution_count": 139,
=======
   "execution_count": 14,
>>>>>>> cf562fdd558352be8495cb882a812f43172a4d33
   "metadata": {},
   "outputs": [],
   "source": [
    "df['PhoneService'] = le.fit_transform(df['PhoneService'])"
   ]
  },
  {
   "attachments": {},
   "cell_type": "markdown",
   "metadata": {},
   "source": [
    "MultipleLines: No-0, No PhoneService-1, Yes-2"
   ]
  },
  {
   "cell_type": "code",
<<<<<<< HEAD
   "execution_count": 140,
=======
   "execution_count": 15,
>>>>>>> cf562fdd558352be8495cb882a812f43172a4d33
   "metadata": {},
   "outputs": [],
   "source": [
    "df['MultipleLines'] = le.fit_transform(df['MultipleLines'])"
   ]
  },
  {
   "attachments": {},
   "cell_type": "markdown",
   "metadata": {},
   "source": [
    "InternetService: DSL-0, Fiber Optic-1, No-2"
   ]
  },
  {
   "cell_type": "code",
<<<<<<< HEAD
   "execution_count": 141,
=======
   "execution_count": 16,
>>>>>>> cf562fdd558352be8495cb882a812f43172a4d33
   "metadata": {},
   "outputs": [],
   "source": [
    "df['InternetService'] = le.fit_transform(df['InternetService'])"
   ]
  },
  {
   "attachments": {},
   "cell_type": "markdown",
   "metadata": {},
   "source": [
    "Partner: Yes-1, No-0"
   ]
  },
  {
   "cell_type": "code",
<<<<<<< HEAD
   "execution_count": 142,
=======
   "execution_count": 17,
>>>>>>> cf562fdd558352be8495cb882a812f43172a4d33
   "metadata": {},
   "outputs": [],
   "source": [
    "df['Partner'] = le.fit_transform(df['Partner'])"
   ]
  },
  {
   "attachments": {},
   "cell_type": "markdown",
   "metadata": {},
   "source": [
    "Contract: Month to Month-0, 1 Year-1, 2 Years-2"
   ]
  },
  {
   "cell_type": "code",
<<<<<<< HEAD
   "execution_count": 143,
=======
   "execution_count": 18,
>>>>>>> cf562fdd558352be8495cb882a812f43172a4d33
   "metadata": {},
   "outputs": [],
   "source": [
    "df['Contract'] = le.fit_transform(df['Contract'])"
   ]
  },
  {
   "attachments": {},
   "cell_type": "markdown",
   "metadata": {},
   "source": [
    "PaymentMethod: Bank Transfer-0, Credit Card-1, Electronic Check-2, Mailed Check-3"
   ]
  },
  {
   "cell_type": "code",
<<<<<<< HEAD
   "execution_count": 144,
=======
   "execution_count": 19,
>>>>>>> cf562fdd558352be8495cb882a812f43172a4d33
   "metadata": {},
   "outputs": [],
   "source": [
    "df['PaymentMethod'] = le.fit_transform(df['PaymentMethod'])"
   ]
  },
  {
   "attachments": {},
   "cell_type": "markdown",
   "metadata": {},
   "source": [
    "Churn: No-0, Yes-1"
   ]
  },
  {
   "cell_type": "code",
<<<<<<< HEAD
   "execution_count": 145,
=======
   "execution_count": 20,
>>>>>>> cf562fdd558352be8495cb882a812f43172a4d33
   "metadata": {},
   "outputs": [],
   "source": [
    "df['Churn'] = le.fit_transform(df['Churn'])"
   ]
  },
  {
   "cell_type": "code",
<<<<<<< HEAD
   "execution_count": 146,
=======
   "execution_count": 21,
>>>>>>> cf562fdd558352be8495cb882a812f43172a4d33
   "metadata": {},
   "outputs": [
    {
     "data": {
      "text/plain": [
       "gender               int32\n",
       "SeniorCitizen        int64\n",
       "Partner              int32\n",
       "tenure               int64\n",
       "PhoneService         int32\n",
       "MultipleLines        int32\n",
       "InternetService      int32\n",
       "Contract             int32\n",
       "PaymentMethod        int32\n",
       "MonthlyCharges     float64\n",
       "TotalCharges        object\n",
       "Churn                int32\n",
       "dtype: object"
      ]
     },
<<<<<<< HEAD
     "execution_count": 146,
=======
     "execution_count": 21,
>>>>>>> cf562fdd558352be8495cb882a812f43172a4d33
     "metadata": {},
     "output_type": "execute_result"
    }
   ],
   "source": [
    "df.dtypes"
   ]
  },
  {
   "attachments": {},
   "cell_type": "markdown",
   "metadata": {},
   "source": [
    "TotalCharges had empty sets so the conversion to a float was did as followed, where we used the mean of the values to be substitued into the empty sets and then the datatype was changed to float."
   ]
  },
  {
   "cell_type": "code",
<<<<<<< HEAD
   "execution_count": 147,
=======
   "execution_count": 22,
>>>>>>> cf562fdd558352be8495cb882a812f43172a4d33
   "metadata": {},
   "outputs": [],
   "source": [
    "df['TotalCharges'] = df['TotalCharges'].replace(' ', np.nan).astype(float)"
   ]
  },
  {
   "cell_type": "code",
<<<<<<< HEAD
   "execution_count": 148,
=======
   "execution_count": 23,
>>>>>>> cf562fdd558352be8495cb882a812f43172a4d33
   "metadata": {},
   "outputs": [
    {
     "name": "stdout",
     "output_type": "stream",
     "text": [
      "0\n"
     ]
    }
   ],
   "source": [
    "print((df['TotalCharges'] == ' ').sum())"
   ]
  },
  {
   "cell_type": "code",
<<<<<<< HEAD
   "execution_count": 149,
=======
   "execution_count": 24,
>>>>>>> cf562fdd558352be8495cb882a812f43172a4d33
   "metadata": {},
   "outputs": [],
   "source": [
    "mean_value = df['TotalCharges'].astype(float).mean()\n",
    "df['TotalCharges'] = df['TotalCharges'].replace(' ', mean_value).astype(float)"
   ]
  },
  {
   "cell_type": "code",
<<<<<<< HEAD
   "execution_count": 150,
=======
   "execution_count": 25,
>>>>>>> cf562fdd558352be8495cb882a812f43172a4d33
   "metadata": {},
   "outputs": [],
   "source": [
    "median_value = df['TotalCharges'].astype(float).median()\n",
    "df['TotalCharges'] = df['TotalCharges'].fillna(median_value).astype(float)"
   ]
  },
  {
   "cell_type": "code",
<<<<<<< HEAD
   "execution_count": 151,
=======
   "execution_count": 26,
>>>>>>> cf562fdd558352be8495cb882a812f43172a4d33
   "metadata": {},
   "outputs": [
    {
     "data": {
      "text/plain": [
       "0         29.85\n",
       "1       1889.50\n",
       "2        108.15\n",
       "3       1840.75\n",
       "4        151.65\n",
       "         ...   \n",
       "7038    1990.50\n",
       "7039    7362.90\n",
       "7040     346.45\n",
       "7041     306.60\n",
       "7042    6844.50\n",
       "Name: TotalCharges, Length: 7043, dtype: float64"
      ]
     },
<<<<<<< HEAD
     "execution_count": 151,
=======
     "execution_count": 26,
>>>>>>> cf562fdd558352be8495cb882a812f43172a4d33
     "metadata": {},
     "output_type": "execute_result"
    }
   ],
   "source": [
    "df['TotalCharges']"
   ]
  },
  {
   "attachments": {},
   "cell_type": "markdown",
   "metadata": {},
   "source": [
    "### Beautification/Labelling of dataset."
   ]
  },
  {
   "cell_type": "code",
<<<<<<< HEAD
   "execution_count": 152,
=======
   "execution_count": 27,
>>>>>>> cf562fdd558352be8495cb882a812f43172a4d33
   "metadata": {},
   "outputs": [],
   "source": [
    "df.rename(columns={\"tenure\": \"Tenure (Months)\"}, inplace=True)\n",
    "df.rename(columns={\"gender\": \"Gender (Female-0, Male-1)\"}, inplace=True)\n",
    "df.rename(columns={\"SeniorCitizen\": \"SeniorCitizen (No-0, Yes-1)\"}, inplace=True)\n",
    "df.rename(columns={\"PhoneService\": \"PhoneService (No-0, Yes-1)\"}, inplace=True)\n",
    "df.rename(columns={\"Partner\": \"Partner (No-0, Yes-1)\"}, inplace=True)\n",
    "df.rename(columns={\"MultipleLines\": \"MultipleLines (No-0, No PhoneService-1, Yes-1)\"}, inplace=True)\n",
    "df.rename(columns={\"InternetService\": \"InternetService (DSL-0, FO-1, NO-2)\"}, inplace=True)\n",
    "df.rename(columns={\"Contract\": \"Contract (M to M-0, 1 Year-1, 2 Years-2)\"}, inplace=True)\n",
    "df.rename(columns={\"PaymentMethod\": \"PaymentMethod(BT-0, CC-1, EC-2, MC-3)\"}, inplace=True)\n",
    "df.rename(columns={\"Churn\": \"Churn (No-0, Yes-1)\"}, inplace=True)\n"
   ]
  },
  {
   "cell_type": "code",
<<<<<<< HEAD
   "execution_count": 153,
=======
   "execution_count": 28,
>>>>>>> cf562fdd558352be8495cb882a812f43172a4d33
   "metadata": {},
   "outputs": [
    {
     "data": {
      "text/html": [
       "<div>\n",
       "<style scoped>\n",
       "    .dataframe tbody tr th:only-of-type {\n",
       "        vertical-align: middle;\n",
       "    }\n",
       "\n",
       "    .dataframe tbody tr th {\n",
       "        vertical-align: top;\n",
       "    }\n",
       "\n",
       "    .dataframe thead th {\n",
       "        text-align: right;\n",
       "    }\n",
       "</style>\n",
       "<table border=\"1\" class=\"dataframe\">\n",
       "  <thead>\n",
       "    <tr style=\"text-align: right;\">\n",
       "      <th></th>\n",
       "      <th>Gender (Female-0, Male-1)</th>\n",
       "      <th>SeniorCitizen (No-0, Yes-1)</th>\n",
       "      <th>Partner (No-0, Yes-1)</th>\n",
       "      <th>Tenure (Months)</th>\n",
       "      <th>PhoneService (No-0, Yes-1)</th>\n",
       "      <th>MultipleLines (No-0, No PhoneService-1, Yes-1)</th>\n",
       "      <th>InternetService (DSL-0, FO-1, NO-2)</th>\n",
       "      <th>Contract (M to M-0, 1 Year-1, 2 Years-2)</th>\n",
       "      <th>PaymentMethod(BT-0, CC-1, EC-2, MC-3)</th>\n",
       "      <th>MonthlyCharges</th>\n",
       "      <th>TotalCharges</th>\n",
       "      <th>Churn (No-0, Yes-1)</th>\n",
       "    </tr>\n",
       "  </thead>\n",
       "  <tbody>\n",
       "    <tr>\n",
       "      <th>0</th>\n",
       "      <td>0</td>\n",
       "      <td>0</td>\n",
       "      <td>1</td>\n",
       "      <td>1</td>\n",
       "      <td>0</td>\n",
       "      <td>1</td>\n",
       "      <td>0</td>\n",
       "      <td>0</td>\n",
       "      <td>2</td>\n",
       "      <td>29.85</td>\n",
       "      <td>29.85</td>\n",
       "      <td>0</td>\n",
       "    </tr>\n",
       "    <tr>\n",
       "      <th>1</th>\n",
       "      <td>1</td>\n",
       "      <td>0</td>\n",
       "      <td>0</td>\n",
       "      <td>34</td>\n",
       "      <td>1</td>\n",
       "      <td>0</td>\n",
       "      <td>0</td>\n",
       "      <td>1</td>\n",
       "      <td>3</td>\n",
       "      <td>56.95</td>\n",
       "      <td>1889.50</td>\n",
       "      <td>0</td>\n",
       "    </tr>\n",
       "    <tr>\n",
       "      <th>2</th>\n",
       "      <td>1</td>\n",
       "      <td>0</td>\n",
       "      <td>0</td>\n",
       "      <td>2</td>\n",
       "      <td>1</td>\n",
       "      <td>0</td>\n",
       "      <td>0</td>\n",
       "      <td>0</td>\n",
       "      <td>3</td>\n",
       "      <td>53.85</td>\n",
       "      <td>108.15</td>\n",
       "      <td>1</td>\n",
       "    </tr>\n",
       "    <tr>\n",
       "      <th>3</th>\n",
       "      <td>1</td>\n",
       "      <td>0</td>\n",
       "      <td>0</td>\n",
       "      <td>45</td>\n",
       "      <td>0</td>\n",
       "      <td>1</td>\n",
       "      <td>0</td>\n",
       "      <td>1</td>\n",
       "      <td>0</td>\n",
       "      <td>42.30</td>\n",
       "      <td>1840.75</td>\n",
       "      <td>0</td>\n",
       "    </tr>\n",
       "    <tr>\n",
       "      <th>4</th>\n",
       "      <td>0</td>\n",
       "      <td>0</td>\n",
       "      <td>0</td>\n",
       "      <td>2</td>\n",
       "      <td>1</td>\n",
       "      <td>0</td>\n",
       "      <td>1</td>\n",
       "      <td>0</td>\n",
       "      <td>2</td>\n",
       "      <td>70.70</td>\n",
       "      <td>151.65</td>\n",
       "      <td>1</td>\n",
       "    </tr>\n",
       "    <tr>\n",
       "      <th>5</th>\n",
       "      <td>0</td>\n",
       "      <td>0</td>\n",
       "      <td>0</td>\n",
       "      <td>8</td>\n",
       "      <td>1</td>\n",
       "      <td>2</td>\n",
       "      <td>1</td>\n",
       "      <td>0</td>\n",
       "      <td>2</td>\n",
       "      <td>99.65</td>\n",
       "      <td>820.50</td>\n",
       "      <td>1</td>\n",
       "    </tr>\n",
       "    <tr>\n",
       "      <th>6</th>\n",
       "      <td>1</td>\n",
       "      <td>0</td>\n",
       "      <td>0</td>\n",
       "      <td>22</td>\n",
       "      <td>1</td>\n",
       "      <td>2</td>\n",
       "      <td>1</td>\n",
       "      <td>0</td>\n",
       "      <td>1</td>\n",
       "      <td>89.10</td>\n",
       "      <td>1949.40</td>\n",
       "      <td>0</td>\n",
       "    </tr>\n",
       "    <tr>\n",
       "      <th>7</th>\n",
       "      <td>0</td>\n",
       "      <td>0</td>\n",
       "      <td>0</td>\n",
       "      <td>10</td>\n",
       "      <td>0</td>\n",
       "      <td>1</td>\n",
       "      <td>0</td>\n",
       "      <td>0</td>\n",
       "      <td>3</td>\n",
       "      <td>29.75</td>\n",
       "      <td>301.90</td>\n",
       "      <td>0</td>\n",
       "    </tr>\n",
       "    <tr>\n",
       "      <th>8</th>\n",
       "      <td>0</td>\n",
       "      <td>0</td>\n",
       "      <td>1</td>\n",
       "      <td>28</td>\n",
       "      <td>1</td>\n",
       "      <td>2</td>\n",
       "      <td>1</td>\n",
       "      <td>0</td>\n",
       "      <td>2</td>\n",
       "      <td>104.80</td>\n",
       "      <td>3046.05</td>\n",
       "      <td>1</td>\n",
       "    </tr>\n",
       "    <tr>\n",
       "      <th>9</th>\n",
       "      <td>1</td>\n",
       "      <td>0</td>\n",
       "      <td>0</td>\n",
       "      <td>62</td>\n",
       "      <td>1</td>\n",
       "      <td>0</td>\n",
       "      <td>0</td>\n",
       "      <td>1</td>\n",
       "      <td>0</td>\n",
       "      <td>56.15</td>\n",
       "      <td>3487.95</td>\n",
       "      <td>0</td>\n",
       "    </tr>\n",
       "  </tbody>\n",
       "</table>\n",
       "</div>"
      ],
      "text/plain": [
       "   Gender (Female-0, Male-1)  SeniorCitizen (No-0, Yes-1)  \\\n",
       "0                          0                            0   \n",
       "1                          1                            0   \n",
       "2                          1                            0   \n",
       "3                          1                            0   \n",
       "4                          0                            0   \n",
       "5                          0                            0   \n",
       "6                          1                            0   \n",
       "7                          0                            0   \n",
       "8                          0                            0   \n",
       "9                          1                            0   \n",
       "\n",
       "   Partner (No-0, Yes-1)  Tenure (Months)  PhoneService (No-0, Yes-1)  \\\n",
       "0                      1                1                           0   \n",
       "1                      0               34                           1   \n",
       "2                      0                2                           1   \n",
       "3                      0               45                           0   \n",
       "4                      0                2                           1   \n",
       "5                      0                8                           1   \n",
       "6                      0               22                           1   \n",
       "7                      0               10                           0   \n",
       "8                      1               28                           1   \n",
       "9                      0               62                           1   \n",
       "\n",
       "   MultipleLines (No-0, No PhoneService-1, Yes-1)  \\\n",
       "0                                               1   \n",
       "1                                               0   \n",
       "2                                               0   \n",
       "3                                               1   \n",
       "4                                               0   \n",
       "5                                               2   \n",
       "6                                               2   \n",
       "7                                               1   \n",
       "8                                               2   \n",
       "9                                               0   \n",
       "\n",
       "   InternetService (DSL-0, FO-1, NO-2)  \\\n",
       "0                                    0   \n",
       "1                                    0   \n",
       "2                                    0   \n",
       "3                                    0   \n",
       "4                                    1   \n",
       "5                                    1   \n",
       "6                                    1   \n",
       "7                                    0   \n",
       "8                                    1   \n",
       "9                                    0   \n",
       "\n",
       "   Contract (M to M-0, 1 Year-1, 2 Years-2)  \\\n",
       "0                                         0   \n",
       "1                                         1   \n",
       "2                                         0   \n",
       "3                                         1   \n",
       "4                                         0   \n",
       "5                                         0   \n",
       "6                                         0   \n",
       "7                                         0   \n",
       "8                                         0   \n",
       "9                                         1   \n",
       "\n",
       "   PaymentMethod(BT-0, CC-1, EC-2, MC-3)  MonthlyCharges  TotalCharges  \\\n",
       "0                                      2           29.85         29.85   \n",
       "1                                      3           56.95       1889.50   \n",
       "2                                      3           53.85        108.15   \n",
       "3                                      0           42.30       1840.75   \n",
       "4                                      2           70.70        151.65   \n",
       "5                                      2           99.65        820.50   \n",
       "6                                      1           89.10       1949.40   \n",
       "7                                      3           29.75        301.90   \n",
       "8                                      2          104.80       3046.05   \n",
       "9                                      0           56.15       3487.95   \n",
       "\n",
       "   Churn (No-0, Yes-1)  \n",
       "0                    0  \n",
       "1                    0  \n",
       "2                    1  \n",
       "3                    0  \n",
       "4                    1  \n",
       "5                    1  \n",
       "6                    0  \n",
       "7                    0  \n",
       "8                    1  \n",
       "9                    0  "
      ]
     },
<<<<<<< HEAD
     "execution_count": 153,
=======
     "execution_count": 28,
>>>>>>> cf562fdd558352be8495cb882a812f43172a4d33
     "metadata": {},
     "output_type": "execute_result"
    }
   ],
   "source": [
    "df.head(10)"
   ]
  },
  {
   "attachments": {},
   "cell_type": "markdown",
   "metadata": {},
   "source": [
    "## Bayesian Model\n",
    "***"
   ]
  },
  {
   "cell_type": "code",
   "execution_count": 34,
   "metadata": {},
   "outputs": [
    {
     "name": "stderr",
     "output_type": "stream",
     "text": [
      "c:\\Users\\Aadarsh\\anaconda3\\envs\\Aadarsh-env\\lib\\site-packages\\pgmpy\\models\\BayesianModel.py:8: FutureWarning: BayesianModel has been renamed to BayesianNetwork. Please use BayesianNetwork class, BayesianModel will be removed in future.\n",
      "  warnings.warn(\n"
     ]
    },
    {
     "name": "stdout",
     "output_type": "stream",
     "text": [
      "[<TabularCPD representing P(Gender (Female-0, Male-1):2) at 0x1e69c58eda0>, <TabularCPD representing P(SeniorCitizen (No-0, Yes-1):2 | Gender (Female-0, Male-1):2, Partner (No-0, Yes-1):2, Tenure (Months):73) at 0x1e69d9f76d0>, <TabularCPD representing P(Partner (No-0, Yes-1):2) at 0x1e69c58e980>, <TabularCPD representing P(Tenure (Months):73) at 0x1e69d9f7b50>, <TabularCPD representing P(PhoneService (No-0, Yes-1):2) at 0x1e69c58efb0>, <TabularCPD representing P(MultipleLines (No-0, No PhoneService-1, Yes-1):3 | PhoneService (No-0, Yes-1):2) at 0x1e69d9f48e0>, <TabularCPD representing P(TotalCharges:6531 | Contract (M to M-0, 1 Year-1, 2 Years-2):3, InternetService (DSL-0, FO-1, NO-2):3, PaymentMethod(BT-0, CC-1, EC-2, MC-3):4, PhoneService (No-0, Yes-1):2) at 0x1e69d4b1d20>, <TabularCPD representing P(InternetService (DSL-0, FO-1, NO-2):3 | MultipleLines (No-0, No PhoneService-1, Yes-1):3) at 0x1e69c58fe50>, <TabularCPD representing P(MonthlyCharges:1585 | MultipleLines (No-0, No PhoneService-1, Yes-1):3) at 0x1e69d9ed5d0>, <TabularCPD representing P(Contract (M to M-0, 1 Year-1, 2 Years-2):3) at 0x1e69d4b2c20>, <TabularCPD representing P(PaymentMethod(BT-0, CC-1, EC-2, MC-3):4) at 0x1e69d9ee350>, <TabularCPD representing P(Churn (No-0, Yes-1):2 | SeniorCitizen (No-0, Yes-1):2, TotalCharges:6531) at 0x1e69d9eec50>]\n"
     ]
    }
   ],
   "source": [
    "model = BayesianModel([('Gender (Female-0, Male-1)', 'SeniorCitizen (No-0, Yes-1)'), ('Partner (No-0, Yes-1)', 'SeniorCitizen (No-0, Yes-1)'), ('Tenure (Months)', 'SeniorCitizen (No-0, Yes-1)'), ('PhoneService (No-0, Yes-1)', 'MultipleLines (No-0, No PhoneService-1, Yes-1)'), ('PhoneService (No-0, Yes-1)', 'TotalCharges'), ('MultipleLines (No-0, No PhoneService-1, Yes-1)', 'InternetService (DSL-0, FO-1, NO-2)'), ('MultipleLines (No-0, No PhoneService-1, Yes-1)', 'MonthlyCharges'), ('InternetService (DSL-0, FO-1, NO-2)', 'TotalCharges'), ('Contract (M to M-0, 1 Year-1, 2 Years-2)', 'TotalCharges'), ('PaymentMethod(BT-0, CC-1, EC-2, MC-3)', 'TotalCharges'), ('SeniorCitizen (No-0, Yes-1)', 'Churn (No-0, Yes-1)'), ('TotalCharges', 'Churn (No-0, Yes-1)')])\n",
    "\n",
    "# fit the parameters of the model using Maximum Likelihood Estimation (MLE)\n",
    "model.fit(df, estimator=MaximumLikelihoodEstimator)\n",
    "\n",
    "# estimate the Bayesian network parameters using Bayesian Estimation\n",
    "model.fit(df, estimator=BayesianEstimator, prior_type='BDeu', equivalent_sample_size=10)\n",
    "\n",
    "# print the network structure and the learned parameters\n",
    "print(model.get_cpds())\n",
    "\n",
    "\n",
    "#plt.figure(figsize=(12, 8))\n",
    "#pos = nx.spring_layout(model)\n",
    "#nx.draw(model, pos, with_labels=True, node_size=1600, node_color='white', font_size=14, font_weight='bold', font_family='Arial')\n",
    "#nx.draw_networkx_edge_labels(model, pos, edge_labels={(u, v): round(d['weight'], 2) for u, v, d in model.edges(data=True)}, font_size=14, font_family='Arial')\n",
    "#plt.savefig('bayesian_network.png')\n",
    "#plt.show()\n",
    "\n",
    "#import sys\n",
    "#sys.stdout = open('output.txt', 'w')\n",
    "#print(model.get_cpds())\n",
    "#sys.stdout.close()"
   ]
  },
  {
   "attachments": {},
   "cell_type": "markdown",
   "metadata": {},
   "source": [
    "#### Plot the probability distribution of the target variable (churn) using the posterior probabilities obtained from the Bayesian network."
   ]
  },
  {
   "cell_type": "code",
   "execution_count": 29,
   "metadata": {},
   "outputs": [
    {
     "name": "stderr",
     "output_type": "stream",
     "text": [
      "c:\\Users\\Aadarsh\\anaconda3\\envs\\Aadarsh-env\\lib\\site-packages\\pgmpy\\models\\BayesianModel.py:8: FutureWarning: BayesianModel has been renamed to BayesianNetwork. Please use BayesianNetwork class, BayesianModel will be removed in future.\n",
      "  warnings.warn(\n"
     ]
    },
    {
     "data": {
      "image/png": "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",
      "text/plain": [
       "<Figure size 640x480 with 1 Axes>"
      ]
     },
     "metadata": {},
     "output_type": "display_data"
    }
   ],
   "source": [
    "# import the VariableElimination class\n",
    "from pgmpy.inference import VariableElimination\n",
    "\n",
    "# create a variable elimination object for the model\n",
    "infer = VariableElimination(model)\n",
    "\n",
    "# get the posterior probabilities for churn\n",
    "posterior_churn = infer.query(variables=['Churn (No-0, Yes-1)'], evidence=None)\n",
    "    \n",
    "# extract the probability of churn being true and false\n",
    "p_churn = posterior_churn.values[1]\n",
    "p_not_churn = posterior_churn.values[0]\n",
    "\n",
    "# plot the probability distribution\n",
    "plt.bar([0, 1], [p_not_churn, p_churn], tick_label=[\"Not Churn\", \"Churn\"])\n",
    "plt.show()\n"
   ]
  },
  {
   "attachments": {},
   "cell_type": "markdown",
   "metadata": {},
   "source": [
    "Posterior probability refers to the probability of an event or hypothesis after taking into account new information or evidence. In the context of Bayesian inference, it is the updated probability of a hypothesis after incorporating new evidence using Bayes' theorem. In other words, it is the probability of a hypothesis given the observed data.\n",
    "\n",
    "In the case of predicting churn in a telecommunications company, the posterior probability of churn is the updated probability of a customer churning given their observed characteristics and behavior (e.g., tenure, monthly charges, payment method, etc.). This probability is obtained by combining prior beliefs (prior probability) about churn with the likelihood of the observed data given the hypothesis (likelihood function). The resulting probability is then normalized to sum up to 1."
   ]
  },
  {
   "attachments": {},
   "cell_type": "markdown",
   "metadata": {},
   "source": [
    "BALANCING THE DATASET USING SMOTE"
   ]
  },
  {
   "cell_type": "code",
   "execution_count": 56,
   "metadata": {},
   "outputs": [
    {
     "name": "stdout",
     "output_type": "stream",
     "text": [
      "0    5174\n",
      "1    5174\n",
      "Name: Churn (No-0, Yes-1), dtype: int64\n"
     ]
    }
   ],
   "source": [
    "X = df.drop('Churn (No-0, Yes-1)', axis=1)\n",
    "y = df['Churn (No-0, Yes-1)']\n",
    "\n",
    "# Apply SMOTE\n",
    "smote = SMOTE()\n",
    "X_smote, y_smote = smote.fit_resample(X, y)\n",
    "\n",
    "# Concatenate majority and upsampled minority\n",
    "df_upsampled = pd.concat([X_smote, y_smote], axis=1)\n",
    "\n",
    "# Verify class distribution\n",
    "print(df_upsampled['Churn (No-0, Yes-1)'].value_counts())"
   ]
  },
  {
   "attachments": {},
   "cell_type": "markdown",
   "metadata": {},
   "source": [
    "## Logistical Regression\n",
    "***\n",
    "Logistical Regression is type of statistical model that is often used for classification and predictive analytics.It estimates the probability of an event occurring, in this case Churn or did not Churn, based on the given dataset of independent variables.<br>\n",
    "This project uses Binary Logistical Regression.<br>\n",
    "The model will identify relationships between our target feature, Churn, and our remaining features to apply probabilistic calculations for determining which class the customer should belong to.<br>\n",
    "We will utilize the ‘ScikitLearn’ package in Python.\n"
   ]
  },
  {
   "attachments": {},
   "cell_type": "markdown",
   "metadata": {},
   "source": [
    "### Assumptions for Logistic Regression\n",
    "1. Binary logistic regression requires the dependent variable to be binary and to follow a binomial distribution,in this instance will a customer discontinue service or not, Yes or No. For more than 2 outcomes (ordinal) logistics regression requires the dependent variable categories to be mutually exclusive and exhaustive.\n",
    "1. Observations should be independent of each other (e.g. data of one customer should not depend on data of another customer, or the same customer should not be used repeatedly in the data)\n",
    "1. Multicollinearity among the independent variables should not exist ,customer data that is dependent on each rather than independent should not be used.\n",
    "1. The linearity of independent variables with respect to log odds of the dependent variable (e.g. log odds of the probability of customer discontinuing the service should be linearly related to various variables like gender, income, etc.)\n",
    "1. Large sample size "
   ]
  },
  {
   "cell_type": "code",
   "execution_count": 30,
   "metadata": {},
   "outputs": [
    {
     "data": {
      "text/plain": [
       "Gender (Female-0, Male-1)                           int32\n",
       "SeniorCitizen (No-0, Yes-1)                         int64\n",
       "Partner (No-0, Yes-1)                               int32\n",
       "Tenure (Months)                                     int64\n",
       "PhoneService (No-0, Yes-1)                          int32\n",
       "MultipleLines (No-0, No PhoneService-1, Yes-1)      int32\n",
       "InternetService (DSL-0, FO-1, NO-2)                 int32\n",
       "Contract (M to M-0, 1 Year-1, 2 Years-2)            int32\n",
       "PaymentMethod(BT-0, CC-1, EC-2, MC-3)               int32\n",
       "MonthlyCharges                                    float64\n",
       "TotalCharges                                      float64\n",
       "Churn (No-0, Yes-1)                                 int32\n",
       "dtype: object"
      ]
     },
     "execution_count": 30,
     "metadata": {},
     "output_type": "execute_result"
    }
   ],
   "source": [
    "df.dtypes"
   ]
  },
  {
   "attachments": {},
   "cell_type": "markdown",
   "metadata": {},
   "source": [
    "From previous code we see that there are no missing data.It can be noted that that the majority of our data are of ‘object’ type, our categorical data. This will be our primary area of focus in the preprocessing step. <br>\n",
    "At the top of the data, there was a  column that is unnecessary, ‘customerID’. This column will be irrelevant to our data, as it is a unique identifier of the customer which is something we do not want so it was perviously dropped.<br>\n",
    "Additionally  the yes and no values in the churn column was change to the binary values 1 and 0 in order for the values to be easier to interpret."
   ]
  },
  {
   "attachments": {},
   "cell_type": "markdown",
   "metadata": {},
   "source": [
    "### Dummy Dataset\n",
    "A dummy variable is a binary variable that takes a value of 0 or 1.It is a way of incorporating nominal variables into a regression as a binary value.<br>\n",
    "Dummy variables allow for the computer to interpret the values of a categorical variable as high(1) or low(0) scores. Since the variables are now numeric, the model can assess directionality and significance in our variables instead of trying to interpret what “Yes” or “No” means.<br>\n",
    " When adding dummy variables is performed, it will add new binary features with [0,1] values that the computer can now interpret. "
   ]
  },
  {
   "cell_type": "code",
   "execution_count": 31,
   "metadata": {},
   "outputs": [],
   "source": [
    "dummy_df = pd.get_dummies(df)"
   ]
  },
  {
   "cell_type": "code",
   "execution_count": 32,
   "metadata": {},
   "outputs": [],
   "source": [
    "#Code to chnage name of Churn column in dummy variable dataset \n",
    "dummy_df.rename(columns={\"Churn (No-0, Yes-1)\":\"Churn\"}, inplace=True)"
   ]
  },
  {
   "cell_type": "code",
   "execution_count": 33,
   "metadata": {},
   "outputs": [
    {
     "data": {
      "text/html": [
       "<div>\n",
       "<style scoped>\n",
       "    .dataframe tbody tr th:only-of-type {\n",
       "        vertical-align: middle;\n",
       "    }\n",
       "\n",
       "    .dataframe tbody tr th {\n",
       "        vertical-align: top;\n",
       "    }\n",
       "\n",
       "    .dataframe thead th {\n",
       "        text-align: right;\n",
       "    }\n",
       "</style>\n",
       "<table border=\"1\" class=\"dataframe\">\n",
       "  <thead>\n",
       "    <tr style=\"text-align: right;\">\n",
       "      <th></th>\n",
       "      <th>Gender (Female-0, Male-1)</th>\n",
       "      <th>SeniorCitizen (No-0, Yes-1)</th>\n",
       "      <th>Partner (No-0, Yes-1)</th>\n",
       "      <th>Tenure (Months)</th>\n",
       "      <th>PhoneService (No-0, Yes-1)</th>\n",
       "      <th>MultipleLines (No-0, No PhoneService-1, Yes-1)</th>\n",
       "      <th>InternetService (DSL-0, FO-1, NO-2)</th>\n",
       "      <th>Contract (M to M-0, 1 Year-1, 2 Years-2)</th>\n",
       "      <th>PaymentMethod(BT-0, CC-1, EC-2, MC-3)</th>\n",
       "      <th>MonthlyCharges</th>\n",
       "      <th>TotalCharges</th>\n",
       "      <th>Churn</th>\n",
       "    </tr>\n",
       "  </thead>\n",
       "  <tbody>\n",
       "    <tr>\n",
       "      <th>0</th>\n",
       "      <td>0</td>\n",
       "      <td>0</td>\n",
       "      <td>1</td>\n",
       "      <td>1</td>\n",
       "      <td>0</td>\n",
       "      <td>1</td>\n",
       "      <td>0</td>\n",
       "      <td>0</td>\n",
       "      <td>2</td>\n",
       "      <td>29.85</td>\n",
       "      <td>29.85</td>\n",
       "      <td>0</td>\n",
       "    </tr>\n",
       "    <tr>\n",
       "      <th>1</th>\n",
       "      <td>1</td>\n",
       "      <td>0</td>\n",
       "      <td>0</td>\n",
       "      <td>34</td>\n",
       "      <td>1</td>\n",
       "      <td>0</td>\n",
       "      <td>0</td>\n",
       "      <td>1</td>\n",
       "      <td>3</td>\n",
       "      <td>56.95</td>\n",
       "      <td>1889.50</td>\n",
       "      <td>0</td>\n",
       "    </tr>\n",
       "    <tr>\n",
       "      <th>2</th>\n",
       "      <td>1</td>\n",
       "      <td>0</td>\n",
       "      <td>0</td>\n",
       "      <td>2</td>\n",
       "      <td>1</td>\n",
       "      <td>0</td>\n",
       "      <td>0</td>\n",
       "      <td>0</td>\n",
       "      <td>3</td>\n",
       "      <td>53.85</td>\n",
       "      <td>108.15</td>\n",
       "      <td>1</td>\n",
       "    </tr>\n",
       "    <tr>\n",
       "      <th>3</th>\n",
       "      <td>1</td>\n",
       "      <td>0</td>\n",
       "      <td>0</td>\n",
       "      <td>45</td>\n",
       "      <td>0</td>\n",
       "      <td>1</td>\n",
       "      <td>0</td>\n",
       "      <td>1</td>\n",
       "      <td>0</td>\n",
       "      <td>42.30</td>\n",
       "      <td>1840.75</td>\n",
       "      <td>0</td>\n",
       "    </tr>\n",
       "    <tr>\n",
       "      <th>4</th>\n",
       "      <td>0</td>\n",
       "      <td>0</td>\n",
       "      <td>0</td>\n",
       "      <td>2</td>\n",
       "      <td>1</td>\n",
       "      <td>0</td>\n",
       "      <td>1</td>\n",
       "      <td>0</td>\n",
       "      <td>2</td>\n",
       "      <td>70.70</td>\n",
       "      <td>151.65</td>\n",
       "      <td>1</td>\n",
       "    </tr>\n",
       "  </tbody>\n",
       "</table>\n",
       "</div>"
      ],
      "text/plain": [
       "   Gender (Female-0, Male-1)  SeniorCitizen (No-0, Yes-1)  \\\n",
       "0                          0                            0   \n",
       "1                          1                            0   \n",
       "2                          1                            0   \n",
       "3                          1                            0   \n",
       "4                          0                            0   \n",
       "\n",
       "   Partner (No-0, Yes-1)  Tenure (Months)  PhoneService (No-0, Yes-1)  \\\n",
       "0                      1                1                           0   \n",
       "1                      0               34                           1   \n",
       "2                      0                2                           1   \n",
       "3                      0               45                           0   \n",
       "4                      0                2                           1   \n",
       "\n",
       "   MultipleLines (No-0, No PhoneService-1, Yes-1)  \\\n",
       "0                                               1   \n",
       "1                                               0   \n",
       "2                                               0   \n",
       "3                                               1   \n",
       "4                                               0   \n",
       "\n",
       "   InternetService (DSL-0, FO-1, NO-2)  \\\n",
       "0                                    0   \n",
       "1                                    0   \n",
       "2                                    0   \n",
       "3                                    0   \n",
       "4                                    1   \n",
       "\n",
       "   Contract (M to M-0, 1 Year-1, 2 Years-2)  \\\n",
       "0                                         0   \n",
       "1                                         1   \n",
       "2                                         0   \n",
       "3                                         1   \n",
       "4                                         0   \n",
       "\n",
       "   PaymentMethod(BT-0, CC-1, EC-2, MC-3)  MonthlyCharges  TotalCharges  Churn  \n",
       "0                                      2           29.85         29.85      0  \n",
       "1                                      3           56.95       1889.50      0  \n",
       "2                                      3           53.85        108.15      1  \n",
       "3                                      0           42.30       1840.75      0  \n",
       "4                                      2           70.70        151.65      1  "
      ]
     },
     "execution_count": 33,
     "metadata": {},
     "output_type": "execute_result"
    }
   ],
   "source": [
    "dummy_df.head()"
   ]
  },
  {
   "attachments": {},
   "cell_type": "markdown",
   "metadata": {},
   "source": [
    "### Splitting the Data\n",
    "The code in this section is used to separate our data into the target feature (Churn) and the predicting features."
   ]
  },
  {
   "cell_type": "code",
   "execution_count": 34,
   "metadata": {},
   "outputs": [],
   "source": [
    "# Code to establish target feature(Churn)\n",
    "y = dummy_df.Churn.values\n",
    "# Code to drop Churn from remaining features\n",
    "X = dummy_df.drop('Churn', axis = 1)\n",
    "# Code to save dataframe column titles to list\n",
    "cols = X.columns"
   ]
  },
  {
   "attachments": {},
   "cell_type": "markdown",
   "metadata": {},
   "source": [
    "### Feature Scaling\n",
    "Our data is full of numeric data but they are all in different units.Since they are different units when compared they will not produce any relevant information so this section provides code to standardize our data values by rescaling an original variable to have equal range and variance as the remaining variables.<br>\n",
    "We will utilize Min-Max SCaling [0,1] as the standardize value will lie within the binary range ."
   ]
  },
  {
   "cell_type": "code",
   "execution_count": 35,
   "metadata": {},
   "outputs": [],
   "source": [
    "# Import the necessary sklearn method\n",
    "from sklearn.preprocessing import MinMaxScaler\n",
    "# Instantiate a Min-Max scaling object\n",
    "mm = MinMaxScaler()\n",
    "# Fit and transform our feature data into a pandas dataframe\n",
    "X = pd.DataFrame(mm.fit_transform(X))\n"
   ]
  },
  {
   "cell_type": "code",
   "execution_count": 36,
   "metadata": {},
   "outputs": [],
   "source": [
    "#Code used to conduct the standard train test split to separate our data into a training set and testing set\n",
    "from sklearn.model_selection import train_test_split\n",
    "X_train, X_test, y_train, y_test = train_test_split(X, y, test_size = .25, random_state = 33)"
   ]
  },
  {
   "attachments": {},
   "cell_type": "markdown",
   "metadata": {},
   "source": [
    "### Building The Model"
   ]
  },
  {
   "cell_type": "code",
   "execution_count": 37,
   "metadata": {},
   "outputs": [
    {
     "data": {
      "text/html": [
       "<style>#sk-container-id-1 {color: black;background-color: white;}#sk-container-id-1 pre{padding: 0;}#sk-container-id-1 div.sk-toggleable {background-color: white;}#sk-container-id-1 label.sk-toggleable__label {cursor: pointer;display: block;width: 100%;margin-bottom: 0;padding: 0.3em;box-sizing: border-box;text-align: center;}#sk-container-id-1 label.sk-toggleable__label-arrow:before {content: \"▸\";float: left;margin-right: 0.25em;color: #696969;}#sk-container-id-1 label.sk-toggleable__label-arrow:hover:before {color: black;}#sk-container-id-1 div.sk-estimator:hover label.sk-toggleable__label-arrow:before {color: black;}#sk-container-id-1 div.sk-toggleable__content {max-height: 0;max-width: 0;overflow: hidden;text-align: left;background-color: #f0f8ff;}#sk-container-id-1 div.sk-toggleable__content pre {margin: 0.2em;color: black;border-radius: 0.25em;background-color: #f0f8ff;}#sk-container-id-1 input.sk-toggleable__control:checked~div.sk-toggleable__content {max-height: 200px;max-width: 100%;overflow: auto;}#sk-container-id-1 input.sk-toggleable__control:checked~label.sk-toggleable__label-arrow:before {content: \"▾\";}#sk-container-id-1 div.sk-estimator input.sk-toggleable__control:checked~label.sk-toggleable__label {background-color: #d4ebff;}#sk-container-id-1 div.sk-label input.sk-toggleable__control:checked~label.sk-toggleable__label {background-color: #d4ebff;}#sk-container-id-1 input.sk-hidden--visually {border: 0;clip: rect(1px 1px 1px 1px);clip: rect(1px, 1px, 1px, 1px);height: 1px;margin: -1px;overflow: hidden;padding: 0;position: absolute;width: 1px;}#sk-container-id-1 div.sk-estimator {font-family: monospace;background-color: #f0f8ff;border: 1px dotted black;border-radius: 0.25em;box-sizing: border-box;margin-bottom: 0.5em;}#sk-container-id-1 div.sk-estimator:hover {background-color: #d4ebff;}#sk-container-id-1 div.sk-parallel-item::after {content: \"\";width: 100%;border-bottom: 1px solid gray;flex-grow: 1;}#sk-container-id-1 div.sk-label:hover label.sk-toggleable__label {background-color: #d4ebff;}#sk-container-id-1 div.sk-serial::before {content: \"\";position: absolute;border-left: 1px solid gray;box-sizing: border-box;top: 0;bottom: 0;left: 50%;z-index: 0;}#sk-container-id-1 div.sk-serial {display: flex;flex-direction: column;align-items: center;background-color: white;padding-right: 0.2em;padding-left: 0.2em;position: relative;}#sk-container-id-1 div.sk-item {position: relative;z-index: 1;}#sk-container-id-1 div.sk-parallel {display: flex;align-items: stretch;justify-content: center;background-color: white;position: relative;}#sk-container-id-1 div.sk-item::before, #sk-container-id-1 div.sk-parallel-item::before {content: \"\";position: absolute;border-left: 1px solid gray;box-sizing: border-box;top: 0;bottom: 0;left: 50%;z-index: -1;}#sk-container-id-1 div.sk-parallel-item {display: flex;flex-direction: column;z-index: 1;position: relative;background-color: white;}#sk-container-id-1 div.sk-parallel-item:first-child::after {align-self: flex-end;width: 50%;}#sk-container-id-1 div.sk-parallel-item:last-child::after {align-self: flex-start;width: 50%;}#sk-container-id-1 div.sk-parallel-item:only-child::after {width: 0;}#sk-container-id-1 div.sk-dashed-wrapped {border: 1px dashed gray;margin: 0 0.4em 0.5em 0.4em;box-sizing: border-box;padding-bottom: 0.4em;background-color: white;}#sk-container-id-1 div.sk-label label {font-family: monospace;font-weight: bold;display: inline-block;line-height: 1.2em;}#sk-container-id-1 div.sk-label-container {text-align: center;}#sk-container-id-1 div.sk-container {/* jupyter's `normalize.less` sets `[hidden] { display: none; }` but bootstrap.min.css set `[hidden] { display: none !important; }` so we also need the `!important` here to be able to override the default hidden behavior on the sphinx rendered scikit-learn.org. See: https://github.com/scikit-learn/scikit-learn/issues/21755 */display: inline-block !important;position: relative;}#sk-container-id-1 div.sk-text-repr-fallback {display: none;}</style><div id=\"sk-container-id-1\" class=\"sk-top-container\"><div class=\"sk-text-repr-fallback\"><pre>LogisticRegression(C=1000000000000.0, fit_intercept=False, solver=&#x27;liblinear&#x27;)</pre><b>In a Jupyter environment, please rerun this cell to show the HTML representation or trust the notebook. <br />On GitHub, the HTML representation is unable to render, please try loading this page with nbviewer.org.</b></div><div class=\"sk-container\" hidden><div class=\"sk-item\"><div class=\"sk-estimator sk-toggleable\"><input class=\"sk-toggleable__control sk-hidden--visually\" id=\"sk-estimator-id-1\" type=\"checkbox\" checked><label for=\"sk-estimator-id-1\" class=\"sk-toggleable__label sk-toggleable__label-arrow\">LogisticRegression</label><div class=\"sk-toggleable__content\"><pre>LogisticRegression(C=1000000000000.0, fit_intercept=False, solver=&#x27;liblinear&#x27;)</pre></div></div></div></div></div>"
      ],
      "text/plain": [
       "LogisticRegression(C=1000000000000.0, fit_intercept=False, solver='liblinear')"
      ]
     },
     "execution_count": 37,
     "metadata": {},
     "output_type": "execute_result"
    }
   ],
   "source": [
    "from sklearn.linear_model import LogisticRegression\n",
    "# Instantiate a logistic regression model without an intercept, arbitrarily large C value will offset the lack of intercept\n",
    "logreg = LogisticRegression(fit_intercept = False, C = 1e12, solver \n",
    "= 'liblinear')\n",
    "# Fit the model to our X and y training sets\n",
    "logreg.fit(X_train, y_train)"
   ]
  },
  {
   "cell_type": "code",
   "execution_count": 38,
   "metadata": {},
   "outputs": [],
   "source": [
    "#Code to predict our future values.\n",
    "y_hat_train = logreg.predict(X_train)\n",
    "y_hat_test = logreg.predict(X_test)\n"
   ]
  },
  {
   "attachments": {},
   "cell_type": "markdown",
   "metadata": {},
   "source": [
    "### Evaluating Model Performance"
   ]
  },
  {
   "attachments": {},
   "cell_type": "markdown",
   "metadata": {},
   "source": [
    "The following code checks to see how often the model was correct as we are trying to predict whether a customer will leave of not.<br>\n",
    "In order to do this we used the residual distance between actual training data and predicted training data, as well as actual test data and predicted test data."
   ]
  },
  {
   "attachments": {},
   "cell_type": "markdown",
   "metadata": {},
   "source": [
    "#### Non-Normalised and Normalised Train Results \n"
   ]
  },
  {
   "cell_type": "code",
   "execution_count": 39,
   "metadata": {},
   "outputs": [
    {
     "name": "stdout",
     "output_type": "stream",
     "text": [
      "Non-Normalized Train Results:\n",
      "0    3893\n",
      "1    1389\n",
      "dtype: int64\n",
      "\n",
      "\n",
      "Normaliszed Train Results\n",
      "0    0.737031\n",
      "1    0.262969\n",
      "dtype: float64\n"
     ]
    }
   ],
   "source": [
    "# Find residual differences between train data and predicted train data\n",
    "residuals = np.abs(y_train, y_hat_train)\n",
    "\n",
    "# Print the number of times our model was correct ('0') and incorrect ('1')\n",
    "print(\"Non-Normalized Train Results:\")\n",
    "print(pd.Series(residuals).value_counts())\n",
    "print(\"\\n\")\n",
    "\n",
    "# Print normalized amount of times our model was correct (percentage)\n",
    "print(\"Normaliszed Train Results\")\n",
    "print(pd.Series(residuals).value_counts(normalize = True))"
   ]
  },
  {
   "attachments": {},
   "cell_type": "markdown",
   "metadata": {},
   "source": [
    "From the above results,we see that there was a 74% correct rate which is a strong number."
   ]
  },
  {
   "attachments": {},
   "cell_type": "markdown",
   "metadata": {},
   "source": [
    "#### Non-Normalised and Normalised Test Results "
   ]
  },
  {
   "cell_type": "code",
   "execution_count": 40,
   "metadata": {},
   "outputs": [
    {
     "name": "stdout",
     "output_type": "stream",
     "text": [
      "Non-Normalized Test Results:\n",
      "0    1281\n",
      "1     480\n",
      "dtype: int64\n",
      "\n",
      "\n",
      "Normalized Test Results\n",
      "0    0.727428\n",
      "1    0.272572\n",
      "dtype: float64\n"
     ]
    }
   ],
   "source": [
    "# Find residual differences between test data and predicted test data\n",
    "residuals = np.abs(y_test, y_hat_test)\n",
    "\n",
    "# Print the number of times our model was correct ('0') and incorrect ('1')\n",
    "print(\"Non-Normalized Test Results:\")\n",
    "print(pd.Series(residuals).value_counts())\n",
    "print(\"\\n\")\n",
    "\n",
    "# Print normalized amount of times our model was correct (percentage)\n",
    "print(\"Normalized Test Results\")\n",
    "print(pd.Series(residuals).value_counts(normalize = True))"
   ]
  },
  {
   "attachments": {},
   "cell_type": "markdown",
   "metadata": {},
   "source": [
    "From the above results,we see that there was a 73% correct rate which is a strong number.<br><br>\n",
    "Our test and train set produced different sizes , so the normalized results are more meaningful here. However,the fact that our model performs about the same on our train and test sets is a positive sign that our model is performing well."
   ]
  },
  {
   "attachments": {},
   "cell_type": "markdown",
   "metadata": {},
   "source": [
    "#### Confusion Matrix\n",
    "A confusion matrix is a visual representation which tells us the degree of four important classification metrics:\n",
    "-  __True Positives (TP)__: The number of observations where the model predicted the customer would churn (1), and they actually do churn (1)\n",
    "-  __True Negatives (TN)__: The number of observations where the model predicted the customer would not churn (0), and they actually do not churn (0).\n",
    "-  __False Positives (FP)__: The number of observations where the model predicted the customer will churn (1), but in real life they do not churn (0).\n",
    "-  __False Negatives (FN)__: The number of observations where the model predicted the customer will not churn (0), but in real life they do churn (1).\n"
   ]
  },
  {
   "cell_type": "code",
   "execution_count": 41,
   "metadata": {},
   "outputs": [
    {
     "name": "stdout",
     "output_type": "stream",
     "text": [
      "[[1281    0]\n",
      " [   0  480]]\n"
     ]
    }
   ],
   "source": [
    "from sklearn.metrics import confusion_matrix\n",
    "# Pass actual test and predicted target test outcomes to function\n",
    "cnf_matrix = confusion_matrix(y_test, y_hat_test)\n",
    "print(cnf_matrix)"
   ]
  },
  {
   "attachments": {},
   "cell_type": "markdown",
   "metadata": {},
   "source": [
    "##### Precision,Recall,Accuracy,F1 score"
   ]
  },
  {
   "cell_type": "code",
   "execution_count": 42,
   "metadata": {},
   "outputs": [
    {
     "name": "stdout",
     "output_type": "stream",
     "text": [
      "Precision\n",
      "1.0\n",
      "1.0\n",
      "\n",
      "\n",
      "Recall\n",
      "1.0\n",
      "1.0\n",
      "\n",
      "\n",
      "Accuracy\n",
      "1.0\n",
      "1.0\n",
      "\n",
      "\n",
      "F1 Score\n",
      "1.0\n",
      "1.0\n",
      "\n",
      "\n"
     ]
    }
   ],
   "source": [
    "from sklearn.metrics import precision_score, recall_score, accuracy_score, f1_score\n",
    "\n",
    "#Precision\n",
    "precision_train = precision_score(y_train, y_hat_train)\n",
    "precision_test = precision_score(y_test, y_hat_test)\n",
    "print(\"Precision\")\n",
    "print(precision_train)\n",
    "print(precision_test)\n",
    "print(\"\\n\")\n",
    "\n",
    "#Recall\n",
    "recall_train = recall_score(y_train, y_hat_train)\n",
    "recall_test = recall_score(y_test, y_hat_test)\n",
    "print(\"Recall\")\n",
    "print(recall_train)\n",
    "print(recall_test)\n",
    "print(\"\\n\")\n",
    "\n",
    "#Accuracy\n",
    "accuracy_train = accuracy_score(y_train, y_hat_train)\n",
    "accuracy_test = accuracy_score(y_test, y_hat_test)\n",
    "print(\"Accuracy\")\n",
    "print(accuracy_train)\n",
    "print(accuracy_test)\n",
    "print(\"\\n\")\n",
    "\n",
    "#F1 Score\n",
    "f1_train = f1_score(y_train, y_hat_train)\n",
    "f1_test = f1_score(y_test, y_hat_test)\n",
    "print(\"F1 Score\")\n",
    "print(f1_train)\n",
    "print(f1_test)\n",
    "print(\"\\n\")"
   ]
  },
  {
   "attachments": {},
   "cell_type": "markdown",
   "metadata": {},
   "source": [
    "## Random Forest\n",
    "***"
   ]
  },
  {
   "cell_type": "code",
   "execution_count": 43,
   "metadata": {},
   "outputs": [
    {
     "data": {
      "image/png": "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",
      "text/plain": [
       "<Figure size 640x480 with 1 Axes>"
      ]
     },
     "metadata": {},
     "output_type": "display_data"
    }
   ],
   "source": [
    "# separate the features (X) from the target variable (y)\n",
    "X = df.drop('Churn (No-0, Yes-1)', axis=1)\n",
    "y = df['Churn (No-0, Yes-1)']\n",
    "\n",
    "# create a random forest classifier with 100 trees\n",
    "rf = RandomForestClassifier(n_estimators=100, random_state=42)\n",
    "\n",
    "# fit the model to the data\n",
    "rf.fit(X, y)\n",
    "\n",
    "# get the feature importances\n",
    "importances = rf.feature_importances_\n",
    "\n",
    "# sort the feature importances in descending order\n",
    "indices = importances.argsort()[::-1]\n",
    "\n",
    "# plot the feature importances as a bar chart\n",
    "plt.bar(range(X.shape[1]), importances[indices])\n",
    "plt.xticks(range(X.shape[1]), X.columns[indices], rotation=90)\n",
    "plt.title('Feature Importances')\n",
    "plt.show()"
   ]
  },
  {
   "cell_type": "code",
   "execution_count": null,
   "metadata": {},
   "outputs": [],
   "source": []
  },
  {
   "cell_type": "code",
   "execution_count": 47,
   "metadata": {},
   "outputs": [
    {
     "ename": "NameError",
     "evalue": "name 'pydot' is not defined",
     "output_type": "error",
     "traceback": [
      "\u001b[1;31m---------------------------------------------------------------------------\u001b[0m",
      "\u001b[1;31mNameError\u001b[0m                                 Traceback (most recent call last)",
      "Cell \u001b[1;32mIn[47], line 19\u001b[0m\n\u001b[0;32m     16\u001b[0m export_graphviz(tree, out_file\u001b[39m=\u001b[39m\u001b[39m'\u001b[39m\u001b[39mtree.dot\u001b[39m\u001b[39m'\u001b[39m, feature_names\u001b[39m=\u001b[39mfeatures, class_names\u001b[39m=\u001b[39mtarget, rounded\u001b[39m=\u001b[39m\u001b[39mTrue\u001b[39;00m, precision\u001b[39m=\u001b[39m\u001b[39m1\u001b[39m)\n\u001b[0;32m     18\u001b[0m \u001b[39m# Convert the dot file to a png image\u001b[39;00m\n\u001b[1;32m---> 19\u001b[0m (graph, ) \u001b[39m=\u001b[39m pydot\u001b[39m.\u001b[39mgraph_from_dot_file(\u001b[39m'\u001b[39m\u001b[39mtree.dot\u001b[39m\u001b[39m'\u001b[39m)\n\u001b[0;32m     20\u001b[0m graph\u001b[39m.\u001b[39mwrite_png(\u001b[39m'\u001b[39m\u001b[39mtree.png\u001b[39m\u001b[39m'\u001b[39m)\n",
      "\u001b[1;31mNameError\u001b[0m: name 'pydot' is not defined"
     ]
    }
   ],
   "source": [
    "# Define the features and target\n",
    "features = df.columns[:-1]\n",
    "target = 'Churn (No-0, Yes-1)'\n",
    "\n",
    "# Split the data into training and testing sets\n",
    "X_train, X_test, y_train, y_test = train_test_split(df[features], df[target], test_size=0.2)\n",
    "\n",
    "# Create a random forest classifier\n",
    "clf = RandomForestClassifier(n_estimators=100, random_state=42)\n",
    "\n",
    "# Train the classifier\n",
    "clf.fit(X_train, y_train)\n",
    "\n",
    "# Export the graph\n",
    "tree = clf.estimators_[0]\n",
    "export_graphviz(tree, out_file='tree.dot', feature_names=features, class_names=target, rounded=True, precision=1)\n",
    "\n",
    "# Convert the dot file to a png image\n",
    "(graph, ) = pydot.graph_from_dot_file('tree.dot')\n",
    "graph.write_png('tree.png')"
   ]
  }
 ],
 "metadata": {
  "kernelspec": {
   "display_name": "Python 3",
   "language": "python",
   "name": "python3"
  },
  "language_info": {
   "codemirror_mode": {
    "name": "ipython",
    "version": 3
   },
   "file_extension": ".py",
   "mimetype": "text/x-python",
   "name": "python",
   "nbconvert_exporter": "python",
   "pygments_lexer": "ipython3",
   "version": "3.10.9"
  },
  "orig_nbformat": 4
 },
 "nbformat": 4,
 "nbformat_minor": 2
}
